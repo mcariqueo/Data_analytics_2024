{
 "cells": [
  {
   "cell_type": "markdown",
   "metadata": {},
   "source": [
    "#### Exercici 1\n",
    "Diccionari invers amb duplicats\n",
    "\n",
    "Continuant amb l'exercici 4 del nivell 1: al client es va oblidar de comentar un detall i resulta que els valors en el diccionari original poden duplicar-se i més, per la qual cosa les claus intercanviades poden tenir duplicats. En aquest cas, en l'exercici anterior imprimies un missatge d'advertiment, ara, els valors del diccionari resultant hauran d'emmagatzemar-se com una llista. Tingues en compte que si és un valor únic no ha de ser una llista."
   ]
  },
  {
   "cell_type": "code",
   "execution_count": null,
   "metadata": {},
   "outputs": [],
   "source": [
    "# GENERO UN DICCIONARIO DE MANERA RANDOM PARA PODER EVALUAR EL CÓDIGO\n",
    "import random\n",
    "import string \n",
    "from collections import defaultdict\n",
    "def generate_random_dict_and_group(size):\n",
    "    random_dict = {}\n",
    "    for _ in range(size):\n",
    "        letra = random.choice(string.ascii_lowercase)\n",
    "        valor_numerico = random.randint(1, 9)\n",
    "        random_dict[letra] = valor_numerico \n",
    "    grouped_dict = defaultdict(list)\n",
    "    for key, value in random_dict.items():\n",
    "        grouped_dict[value].append(key) \n",
    "    return random_dict, grouped_dict\n",
    "size = 5\n",
    "random_dict, grouped_dict = generate_random_dict_and_group(size)\n",
    "\n",
    "print(\"Diccionarios generados:\\n\" , random_dict) # , print(\"numero elementos: \\n\" ,len(random_dict) )\n",
    "\n",
    "# CREO UNA FUNCION QUE SEPARA EL DICCIONARIO Y SUB GRUPOS \n",
    "# POSTERIOR INVERTE value:key --> key:value\n",
    "# CREO UN NUEVO DICCIONARIO CON LA INSTRUCCION DADA\n",
    "\n",
    "def separar_invertir(random_dict):\n",
    "    grouped_dict = {}\n",
    "    for key, value in random_dict.items():\n",
    "        if value in grouped_dict:\n",
    "            grouped_dict[value].append(key)\n",
    "        else:\n",
    "            grouped_dict[value] = [key]\n",
    "    return grouped_dict\n",
    "\n",
    "sep = dict(separar_invertir(random_dict))\n",
    "\n",
    "# IMPRIMO EL RESULTADO \n",
    "print(\"Diccionario separado e invertido:\")\n",
    "for key, value in sep.items():\n",
    "    print(key, \":\", value)\n"
   ]
  },
  {
   "cell_type": "markdown",
   "metadata": {},
   "source": [
    "### Exercici 2\n",
    "Conversió de tipus de dades\n",
    "\n",
    "El client rep una llista de dades i necessita generar dues llistes, la primera on estaran tots els elements que es van poder convertir en flotants i l'altra on estan els elements que no es van poder convertir. Exemple de la llista que rep el client: [ '1.3', 'one' , '1e10' , 'seven', '3-1/2', ('2',1,1.4,'not-a-number'), [1,2,'3','3.4']]\n",
    "\n"
   ]
  },
  {
   "cell_type": "code",
   "execution_count": null,
   "metadata": {},
   "outputs": [],
   "source": [
    "# Lista proporcionada por el cliente\n",
    "lst = ['1.3', 'one', '1e10', 'seven', '3-1/2', ('2', 1, 1.4, 'not-a-number'), [1, 2, '3', '3.4']]\n",
    "\n",
    "# Función para que cada elemento sea un elemento de la lista.\n",
    "# Generador que produce cada elemento de la lista aplanada.\n",
    "def aplanar(lst):\n",
    "    for item in lst:\n",
    "        if isinstance(item, (list, tuple)):\n",
    "            yield from aplanar(item)\n",
    "        else:\n",
    "            yield item\n",
    "\n",
    "# Obtener la lista aplanada\n",
    "lista_aplanada = list(aplanar(lst))\n",
    "\n",
    "# Inicializar listas para enteros y elementos no convertidos\n",
    "convertidos = []\n",
    "no_convertidos = []\n",
    "\n",
    "# Iterar sobre cada elemento de la lista aplanada\n",
    "for item in lista_aplanada:\n",
    "    try:\n",
    "        # Convertir el elemento a float\n",
    "        numero = float(item)\n",
    "        # Verificar si el número es un entero o un flotante\n",
    "        if numero.is_integer() or int(numero) == numero:\n",
    "            convertidos.append(int(numero))  # Agregar a la lista de convertidos\n",
    "    except ValueError:\n",
    "        no_convertidos.append(item)  # Si la conversión falla, agregar a la lista de no convertidos\n",
    "\n",
    "# Imprimir resultados\n",
    "print(\"lista inicial:           \", lst)\n",
    "print(\"Lista aplanada:          \", lista_aplanada)\n",
    "print(\"Números convertidos:     \", convertidos)\n",
    "print(\"Elementos no convertidos:\", no_convertidos)\n",
    "\n",
    "\n"
   ]
  }
 ],
 "metadata": {
  "kernelspec": {
   "display_name": "Python 3",
   "language": "python",
   "name": "python3"
  },
  "language_info": {
   "codemirror_mode": {
    "name": "ipython",
    "version": 3
   },
   "file_extension": ".py",
   "mimetype": "text/x-python",
   "name": "python",
   "nbconvert_exporter": "python",
   "pygments_lexer": "ipython3",
   "version": "3.12.3"
  }
 },
 "nbformat": 4,
 "nbformat_minor": 2
}
