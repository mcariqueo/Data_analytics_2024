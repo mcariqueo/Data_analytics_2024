{
 "cells": [
  {
   "cell_type": "markdown",
   "metadata": {},
   "source": [
    "### Exercici 1: Calculadora de l'índex de massa corporal\n",
    "Escriu una funció que calculi l'IMC ingressat per l'usuari/ària, és a dir, qui ho executi haurà d'ingressar aquestes dades. La funció ha de classificar el resultat en les seves respectives categories"
   ]
  },
  {
   "cell_type": "code",
   "execution_count": 22,
   "metadata": {},
   "outputs": [
    {
     "name": "stdout",
     "output_type": "stream",
     "text": [
      " Calculadora de l'índex de massa corporal (IMC)\n",
      "        Su peso es de 96.0 kg y su altura es de 1.75 m.\n",
      "        Su IMC es 31.35. Clasificación: Obesidad\n",
      "Tenga presente que esta clasificación tiene limitaciones y cualquier interpretación debe ser acompañada por un profesional\n"
     ]
    }
   ],
   "source": [
    "# Defino la función para calcular el IMC\n",
    "\n",
    "def calcular_imc(peso_corporal, altura_cm):\n",
    "    altura_m = altura_cm / 100                  # Convierto la altura de centímetros a metros\n",
    "    imc      = peso_corporal / (altura_m ** 2)  # Calculo el IMC utilizando la fórmula: peso / (altura al cuadrado)\n",
    "    imc      = round(imc, 2)                    # Redondeo el resultado a dos decimales\n",
    "    return imc                                  # Devuelvo el valor del IMC calculado\n",
    "\n",
    "# Defino la función para clasificar el IMC\n",
    "def clasificar_imc(imc):\n",
    "    if   imc  <  18.5     :   return \"Bajo peso\"\n",
    "    elif 18.5 <= imc < 25 :   return \"Peso normal\"\n",
    "    elif 25   <= imc < 30 :   return \"Sobrepeso\"\n",
    "    else                  :   return \"Obesidad\"\n",
    "\n",
    "# Genero un bucle while para que el usuario ingrese la información de peso y talla \n",
    "\n",
    "while True:\n",
    "    while True:\n",
    "        peso_corporal = float(input(\"Ingrese su peso corporal en Kg: \"))\n",
    "        if 40 <= peso_corporal <= 150:  break\n",
    "        print(\"El peso corporal debe estar entre 40 y 150 kg.\")\n",
    "    \n",
    "    while True:\n",
    "        altura_cm = float(input(\"Ingrese su altura en cm: \"))\n",
    "        if 100 <= altura_cm <= 250: break\n",
    "        print(\"La altura debe estar entre 100 y 250 cm.\")\n",
    "\n",
    "    # Si ambos valores están dentro del rango, salir del bucle externo\n",
    "    break\n",
    "\n",
    "# Llamo a las funciones definidas al principio de este codigo:\n",
    "imc             = calcular_imc(peso_corporal, altura_cm)\n",
    "clasificacion   = clasificar_imc(imc)\n",
    "\n",
    "print(\" Calculadora de l'índex de massa corporal (IMC)\\n\" +\n",
    "      f\"        Su peso es de {peso_corporal} kg y su altura es de {altura_cm / 100} m.\\n\" +\n",
    "      f\"        Su IMC es {imc}. Clasificación: {clasificacion}\\n\" +\n",
    "      \"Tenga presente que esta clasificación tiene limitaciones y cualquier interpretación debe ser acompañada por un profesional\")\n",
    "\n"
   ]
  },
  {
   "cell_type": "markdown",
   "metadata": {},
   "source": [
    "### Exercici 2\n",
    "\n",
    "Convertidor de temperatures.\n",
    "\n",
    "Existeixen diverses unitats de temperatura utilitzades en diferents contextos i regions. Les més comunes són Celsius (°C), Fahrenheit (°F) i Kelvin (K). També existeixen altres unitats com Rankine (°Ra) i Réaumur (°Re). Selecciona almenys 2 i construeix el convertidor."
   ]
  },
  {
   "cell_type": "code",
   "execution_count": 18,
   "metadata": {},
   "outputs": [
    {
     "name": "stdout",
     "output_type": "stream",
     "text": [
      "80.0 F equivale a 26.67 C\n"
     ]
    }
   ],
   "source": [
    "def seleccionar_unidad_inicial():\n",
    "    opcion = input(\"Seleccione la unidad de temperatura 1: Celsius (C), 2: Fahrenheit (F), 3: Kelvin (K), 4: Rankine, 5: Reaumur: \")\n",
    "    if   opcion == \"1\": return \"C\"\n",
    "    elif opcion == \"2\": return \"F\"\n",
    "    elif opcion == \"3\": return \"K\"\n",
    "    elif opcion == \"4\": return \"Rankine\"\n",
    "    elif opcion == \"5\": return \"Reaumur\"\n",
    "    else:   \n",
    "        print(\"Error: Ingrese un número válido.\") \n",
    "        return seleccionar_unidad_inicial()  # Llamar recursivamente a la función si la entrada no es válida\n",
    "\n",
    "def ingresar_grados():\n",
    "    temperatura = float(input(\"Ingrese la temperatura: \"))\n",
    "    return temperatura\n",
    "\n",
    "def seleccionar_unidad_destino():\n",
    "    opcion = input(\"Seleccione la unidad de temperatura destino 1: Celsius (C), 2: Fahrenheit (F), 3: Kelvin (K), 4: Rankine, 5: Reaumur: \")\n",
    "    if   opcion == \"1\": return \"C\"\n",
    "    elif opcion == \"2\": return \"F\"\n",
    "    elif opcion == \"3\": return \"K\"\n",
    "    elif opcion == \"4\": return \"Rankine\"\n",
    "    elif opcion == \"5\": return \"Reaumur\"\n",
    "    else:   \n",
    "        print(\"Error: Ingrese un número válido.\")\n",
    "        return seleccionar_unidad_destino()  # Llamar recursivamente a la función si la entrada no es válida\n",
    "\n",
    "def convertidor(temp, unidad_origen, unidad_destino):\n",
    "    if   unidad_origen == \"C\"       and unidad_destino == \"F\":          return (temp * 1.8) + 32\n",
    "    elif unidad_origen == \"F\"       and unidad_destino == \"C\":          return (temp - 32) / 1.8\n",
    "    elif unidad_origen == \"K\"       and unidad_destino == \"C\":          return temp - 273.15\n",
    "    elif unidad_origen == \"C\"       and unidad_destino == \"K\":          return temp + 273.15\n",
    "    elif unidad_origen == \"F\"       and unidad_destino == \"K\":          return (temp - 32) / 1.8 + 273.15\n",
    "    elif unidad_origen == \"K\"       and unidad_destino == \"F\":          return (temp - 273.15) * 1.8 + 32\n",
    "    elif unidad_origen == \"C\"       and unidad_destino == \"Rankine\":    return temp * 9/5 + 491.67\n",
    "    elif unidad_origen == \"Rankine\" and unidad_destino == \"C\":          return (temp - 491.67) * 5/9\n",
    "    elif unidad_origen == \"F\"       and unidad_destino == \"Rankine\":    return temp + 459.67\n",
    "    elif unidad_origen == \"Rankine\" and unidad_destino == \"F\":          return temp - 459.67\n",
    "    elif unidad_origen == \"Reaumur\" and unidad_destino == \"C\":          return temp * 5/4\n",
    "    elif unidad_origen == \"C\"       and unidad_destino == \"Reaumur\":    return temp * 4/5\n",
    "    else:\n",
    "        return \"No es una conversión válida\"\n",
    "\n",
    "# Solicitar al usuario la unidad de temperatura de origen y temperatura\n",
    "unidad_inicial          = seleccionar_unidad_inicial()\n",
    "temperatura             = ingresar_grados()\n",
    "\n",
    "# Solicitar al usuario la unidad de temperatura de destino\n",
    "unidad_destino          = seleccionar_unidad_destino()\n",
    "\n",
    "# Realizar la conversión de temperatura -> redondeo la cifra a dos decimales\n",
    "temperatura_convertida  = round((convertidor(temperatura, unidad_inicial, unidad_destino)), 2)\n",
    "\n",
    "# Imprimir el resultado de la conversión\n",
    "print(f\"{temperatura} {unidad_inicial} equivale a {temperatura_convertida} {unidad_destino}\")"
   ]
  },
  {
   "cell_type": "markdown",
   "metadata": {},
   "source": [
    "Exercici 3\n",
    "Comptador de paraules d'un text.\n",
    "\n",
    "Escriu una funció que donat un text, mostri les vegades que apareix cada paraula."
   ]
  }
 ],
 "metadata": {
  "kernelspec": {
   "display_name": "Python 3",
   "language": "python",
   "name": "python3"
  },
  "language_info": {
   "codemirror_mode": {
    "name": "ipython",
    "version": 3
   },
   "file_extension": ".py",
   "mimetype": "text/x-python",
   "name": "python",
   "nbconvert_exporter": "python",
   "pygments_lexer": "ipython3",
   "version": "3.12.3"
  }
 },
 "nbformat": 4,
 "nbformat_minor": 2
}
