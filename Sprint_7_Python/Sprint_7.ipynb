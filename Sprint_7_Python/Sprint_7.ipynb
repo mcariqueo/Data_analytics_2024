{
 "cells": [
  {
   "cell_type": "markdown",
   "metadata": {},
   "source": [
    "### Exercici 1: Calculadora de l'índex de massa corporal\n",
    "Escriu una funció que calculi l'IMC ingressat per l'usuari/ària, és a dir, qui ho executi haurà d'ingressar aquestes dades. La funció ha de classificar el resultat en les seves respectives categories"
   ]
  },
  {
   "cell_type": "code",
   "execution_count": null,
   "metadata": {},
   "outputs": [],
   "source": [
    "# Defino la función para calcular el IMC\n",
    "\n",
    "def calcular_imc(peso_corporal, altura_cm):\n",
    "    altura_m = altura_cm / 100                  # Convierto la altura de centímetros a metros\n",
    "    imc      = peso_corporal / (altura_m ** 2)  # Calculo el IMC utilizando la fórmula: peso / (altura al cuadrado)\n",
    "    imc      = round(imc, 2)                    # Redondeo el resultado a dos decimales\n",
    "    return imc                                  # Devuelvo el valor del IMC calculado\n",
    "\n",
    "# Defino la función para clasificar el IMC\n",
    "def clasificar_imc(imc):\n",
    "    if   imc  <  18.5     :   return \"Bajo peso\"\n",
    "    elif 18.5 <= imc < 25 :   return \"Peso normal\"\n",
    "    elif 25   <= imc < 30 :   return \"Sobrepeso\"\n",
    "    else                  :   return \"Obesidad\"\n",
    "\n",
    "# Genero un bucle while para que el usuario ingrese la información de peso y talla \n",
    "\n",
    "while True:\n",
    "    while True:\n",
    "        peso_corporal = float(input(\"Ingrese su peso corporal en Kg: \"))\n",
    "        if 40 <= peso_corporal <= 150:  break\n",
    "        print(\"El peso corporal debe estar entre 40 y 150 kg.\")\n",
    "    \n",
    "    while True:\n",
    "        altura_cm = float(input(\"Ingrese su altura en cm: \"))\n",
    "        if 100 <= altura_cm <= 250: break\n",
    "        print(\"La altura debe estar entre 100 y 250 cm.\")\n",
    "\n",
    "    # Si ambos valores están dentro del rango, salir del bucle externo\n",
    "    break\n",
    "\n",
    "# Llamo a las funciones definidas al principio de este codigo:\n",
    "imc             = calcular_imc(peso_corporal, altura_cm)\n",
    "clasificacion   = clasificar_imc(imc)\n",
    "\n",
    "print(\" Calculadora de l'índex de massa corporal (IMC)\\n\" +\n",
    "      f\"        Su peso es de {peso_corporal} kg y su altura es de {altura_cm / 100} m.\\n\" +\n",
    "      f\"        Su IMC es {imc}. Clasificación: {clasificacion}\\n\" +\n",
    "      \"Tenga presente que esta clasificación tiene limitaciones y cualquier interpretación debe ser acompañada por un profesional\")\n"
   ]
  },
  {
   "cell_type": "markdown",
   "metadata": {},
   "source": [
    "### Exercici 2\n",
    "\n",
    "Convertidor de temperatures.\n",
    "\n",
    "Existeixen diverses unitats de temperatura utilitzades en diferents contextos i regions. Les més comunes són Celsius (°C), Fahrenheit (°F) i Kelvin (K). També existeixen altres unitats com Rankine (°Ra) i Réaumur (°Re). Selecciona almenys 2 i construeix el convertidor."
   ]
  },
  {
   "cell_type": "code",
   "execution_count": null,
   "metadata": {},
   "outputs": [],
   "source": [
    "def seleccionar_unidad_inicial():\n",
    "    opcion = input(\"Seleccione la unidad de temperatura 1: Celsius (C), 2: Fahrenheit (F), 3: Kelvin (K), 4: Rankine, 5: Reaumur: \")\n",
    "    if   opcion == \"1\": return \"Celsius\"\n",
    "    elif opcion == \"2\": return \"Fahrenheit\"\n",
    "    elif opcion == \"3\": return \"Kelvin\"\n",
    "    elif opcion == \"4\": return \"Rankine\"\n",
    "    elif opcion == \"5\": return \"Reaumur\"\n",
    "    else:   \n",
    "        print(\"Error: Ingrese un número válido.\") \n",
    "        return seleccionar_unidad_inicial()  # Llamar recursivamente a la función si la entrada no es válida\n",
    "\n",
    "def ingresar_grados():\n",
    "    temperatura = float(input(\"Ingrese la temperatura: \"))\n",
    "    return temperatura\n",
    "\n",
    "def seleccionar_unidad_destino():\n",
    "    opcion = input(\"Seleccione la unidad de temperatura destino 1: Celsius (C), 2: Fahrenheit (F), 3: Kelvin (K), 4: Rankine, 5: Reaumur: \")\n",
    "    if   opcion == \"1\": return \"Celsius\"\n",
    "    elif opcion == \"2\": return \"Fahrenheit\"\n",
    "    elif opcion == \"3\": return \"Kelvin\"\n",
    "    elif opcion == \"4\": return \"Rankine\"\n",
    "    elif opcion == \"5\": return \"Reaumur\"\n",
    "    else:   \n",
    "        print(\"Error: Ingrese un número válido.\")\n",
    "        return seleccionar_unidad_destino()  # Llamar recursivamente a la función si la entrada no es válida\n",
    "\n",
    "def convertidor(temp, unidad_origen, unidad_destino):\n",
    "    if   unidad_origen == \"Celsius\"    and unidad_destino == \"Fahrenheit\" :   return (temp * 1.8) + 32\n",
    "    elif unidad_origen == \"Fahrenheit\" and unidad_destino == \"Celsius\"    :   return (temp - 32) / 1.8\n",
    "    elif unidad_origen == \"Kelvin\"     and unidad_destino == \"Celsius\"    :   return temp - 273.15\n",
    "    elif unidad_origen == \"Celsius\"    and unidad_destino == \"Kelvin\"     :   return temp + 273.15\n",
    "    elif unidad_origen == \"Fahrenheit\" and unidad_destino == \"Kelvin\"     :   return (temp - 32) / 1.8 + 273.15\n",
    "    elif unidad_origen == \"Kelvin\"     and unidad_destino == \"Fahrenheit\" :   return (temp - 273.15) * 1.8 + 32\n",
    "    elif unidad_origen == \"Celsius\"    and unidad_destino == \"Rankine\"    :   return temp * 9/5 + 491.67\n",
    "    elif unidad_origen == \"Rankine\"    and unidad_destino == \"Celsius\"    :   return (temp - 491.67) * 5/9\n",
    "    elif unidad_origen == \"Fahrenheit\" and unidad_destino == \"Rankine\"    :   return temp + 459.67\n",
    "    elif unidad_origen == \"Rankine\"    and unidad_destino == \"Fahrenheit\" :   return temp - 459.67\n",
    "    elif unidad_origen == \"Reaumur\"    and unidad_destino == \"Celsius\"    :   return temp * 5/4\n",
    "    elif unidad_origen == \"Celsius\"    and unidad_destino == \"Reaumur\"    :   return temp * 4/5\n",
    "    else:\n",
    "        return \"No es una conversión válida\"\n",
    "\n",
    "# Solicito al usuario la unidad de temperatura de origen y temperatura\n",
    "unidad_inicial          = seleccionar_unidad_inicial()\n",
    "temperatura             = ingresar_grados()\n",
    "\n",
    "# Solicito al usuario la unidad de temperatura de destino\n",
    "unidad_destino          = seleccionar_unidad_destino()\n",
    "\n",
    "# Realizar la conversión de temperatura -> redondeo la cifra a dos decimales\n",
    "temperatura_convertida  = round((convertidor(temperatura, unidad_inicial, unidad_destino)), 2)\n",
    "\n",
    "# Imprimo el resultado de la conversión\n",
    "print(f\"{temperatura} {unidad_inicial} equivale a {temperatura_convertida} {unidad_destino}\")"
   ]
  },
  {
   "cell_type": "markdown",
   "metadata": {},
   "source": [
    "Exercici 3\n",
    "Comptador de paraules d'un text.\n",
    "\n",
    "Escriu una funció que donat un text, mostri les vegades que apareix cada paraula."
   ]
  },
  {
   "cell_type": "code",
   "execution_count": 17,
   "metadata": {},
   "outputs": [
    {
     "name": "stdout",
     "output_type": "stream",
     "text": [
      "Texto original: hola soy Marcial pepo Marcial , Marcial a es un Marcial que dice: hola\n",
      "Cantidad total de palabras: 13\n",
      "\n",
      "Conteo de palabras (ordenadas alfabéticamente):\n",
      "a: 1\n",
      "dice: 1\n",
      "es: 1\n",
      "hola: 2\n",
      "marcial: 4\n",
      "pepo: 1\n",
      "que: 1\n",
      "soy: 1\n",
      "un: 1\n"
     ]
    }
   ],
   "source": [
    "def contar_palabras(texto):\n",
    "    # Definir los signos de puntuación que quieres eliminar\n",
    "    signos_puntuacion = '''!()-[]{};:'\",<>./?@#$%^&*_~'''\n",
    "    \n",
    "    # Eliminar los signos de puntuación del texto\n",
    "    for signo in signos_puntuacion:\n",
    "        texto = texto.replace(signo, '')\n",
    "\n",
    "    palabras = texto.lower().split() # Convertir el texto en una lista de palabras y convertirlas a minúsculas\n",
    "    len_palabras = len(palabras) # Contar las palabras\n",
    "\n",
    "    # Contar cuántas veces se repite cada palabra\n",
    "    conteo_palabras = {}\n",
    "    for palabra in palabras:\n",
    "        if palabra in conteo_palabras:\n",
    "            conteo_palabras[palabra] += 1\n",
    "        else:\n",
    "            conteo_palabras[palabra] = 1\n",
    "\n",
    "    conteo_palabras_ordenado = dict(sorted(conteo_palabras.items())) #  Ordeno la lista obtenida de manera alfabetica\n",
    "\n",
    "    return palabras, len_palabras, conteo_palabras_ordenado\n",
    "\n",
    "# Ejemplo\n",
    "texto = \"hola soy Marcial pepo Marcial , Marcial a es un Marcial que dice: hola\"\n",
    "palabras, len_palabras, conteo_palabras = contar_palabras(texto)\n",
    "\n",
    "# Imprimir resultados de manera bonita\n",
    "print(\"Texto original:\", texto)\n",
    "print(\"Cantidad total de palabras:\", len_palabras)\n",
    "print(\"\\nConteo de palabras (ordenadas alfabéticamente):\")\n",
    "for palabra, conteo in conteo_palabras.items():\n",
    "    print(f\"{palabra}: {conteo}\")"
   ]
  },
  {
   "cell_type": "markdown",
   "metadata": {},
   "source": [
    "Ejercicio 4\n",
    "Diccionario inverso.\n",
    "\n",
    "Resulta que el cliente tiene una encuesta muy antigua que se almacena en un diccionario y los resultados los necesita a la inversa, es decir, intercambiados las claves y valores. Los valores y claves en el diccionario original son únicos; si éste no es el caso, la función debería imprimir un mensaje de advertencia."
   ]
  },
  {
   "cell_type": "code",
   "execution_count": 92,
   "metadata": {},
   "outputs": [
    {
     "name": "stdout",
     "output_type": "stream",
     "text": [
      "Error: multiple keys for one value\n",
      "Diccionario invertido: None\n"
     ]
    }
   ],
   "source": [
    "def inverso(dictionary):\n",
    "    #    # Verifica si los valores son únicos\n",
    "    if len(dictionary.values()) != len(set(dictionary.values())):\n",
    "        print(\"Error: multiple keys for one value\")\n",
    "        return None\n",
    "    \n",
    "    # Invierte las claves y valores del diccionario\n",
    "    orden_inverso = {v: k for k, v in dictionary.items()} # utilizo las mismas llaves para tratar como set el conjunto de datos\n",
    "    return orden_inverso\n",
    "\n",
    "# Diccionario original\n",
    "dictionary = {'a': 1, 'b': 2, 'c': 3, 'c':2}\n",
    "\n",
    "\n",
    "# Imprime el diccionario con claves y valores invertidos\n",
    "print(\"Diccionario invertido:\", inverso(dictionary))\n",
    "\n",
    "\n",
    "\n"
   ]
  },
  {
   "cell_type": "code",
   "execution_count": 25,
   "metadata": {},
   "outputs": [
    {
     "name": "stdout",
     "output_type": "stream",
     "text": [
      "{1: 'a', 2: 'b', 3: 'c'}\n"
     ]
    }
   ],
   "source": [
    "def func_dictionary(dictionary):\n",
    "    numero_items = len(dictionary)\n",
    "    \n",
    "    print(reverse_dictionary)\n",
    "    return numero_items\n",
    "\n",
    "# Ejemplo de uso:\n",
    "dictionary = {'a': 1, 'b': 2, 'c': 3}\n",
    "reversed_dict = reverse_dictionary(dictionary)\n",
    "print(reversed_dict)\n"
   ]
  }
 ],
 "metadata": {
  "kernelspec": {
   "display_name": "Python 3",
   "language": "python",
   "name": "python3"
  },
  "language_info": {
   "codemirror_mode": {
    "name": "ipython",
    "version": 3
   },
   "file_extension": ".py",
   "mimetype": "text/x-python",
   "name": "python",
   "nbconvert_exporter": "python",
   "pygments_lexer": "ipython3",
   "version": "3.12.3"
  }
 },
 "nbformat": 4,
 "nbformat_minor": 2
}
