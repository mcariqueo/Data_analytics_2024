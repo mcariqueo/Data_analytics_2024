{
 "cells": [
  {
   "cell_type": "markdown",
   "metadata": {},
   "source": [
    "### Exercici 1: Calculadora de l'índex de massa corporal\n",
    "Escriu una funció que calculi l'IMC ingressat per l'usuari/ària, és a dir, qui ho executi haurà d'ingressar aquestes dades. La funció ha de classificar el resultat en les seves respectives categories"
   ]
  },
  {
   "cell_type": "code",
   "execution_count": 51,
   "metadata": {},
   "outputs": [
    {
     "name": "stdout",
     "output_type": "stream",
     "text": [
      "***Calculadora de l'índex de massa corporal (IMC)***\n",
      "***Su peso es de 44.0 kg y su altura es de 1.6 m.\n",
      "***Su IMC es 17.19. Clasificación: Bajo peso\n",
      "***Tenga presente que esta clasificación tiene limitaciones y cualquier interpretación debe ser acompañada por un profesional***\n"
     ]
    }
   ],
   "source": [
    "# Defino la función para calcular el IMC\n",
    "\n",
    "def calcular_imc(peso_corporal, altura_cm):\n",
    "    altura_m = altura_cm / 100                  # Convierto la altura de centímetros a metros\n",
    "    imc      = peso_corporal / (altura_m ** 2)  # Calculo el IMC utilizando la fórmula: peso / (altura al cuadrado)\n",
    "    imc      = round(imc, 2)                    # Redondeo el resultado a dos decimales\n",
    "    return imc                                  # Devuelvo el valor del IMC calculado\n",
    "\n",
    "# Defino la función para clasificar el IMC\n",
    "def clasificar_imc(imc):\n",
    "    if   imc  <  18.5     :   return \"Bajo peso\"\n",
    "    elif 18.5 <= imc < 25 :   return \"Peso normal\"\n",
    "    elif 25   <= imc < 30 :   return \"Sobrepeso\"\n",
    "    else                  :   return \"Obesidad\"\n",
    "\n",
    "print(\"***Calculadora de l'índex de massa corporal (IMC)***\")\n",
    "\n",
    "# Genero un bucle while para que el usuario ingrese la información de peso y talla \n",
    "\n",
    "while True:\n",
    "    while True:\n",
    "        peso_corporal = float(input(\"Ingrese su peso corporal en Kg: \"))\n",
    "        if 40 <= peso_corporal <= 150:\n",
    "            break\n",
    "        print(\"El peso corporal debe estar entre 40 y 150 kg.\")\n",
    "    \n",
    "    while True:\n",
    "        altura_cm = float(input(\"Ingrese su altura en cm: \"))\n",
    "        if 100 <= altura_cm <= 250:\n",
    "            break\n",
    "        print(\"La altura debe estar entre 100 y 250 cm.\")\n",
    "\n",
    "    # Si ambos valores están dentro del rango, salir del bucle externo\n",
    "    break\n",
    "\n",
    "# Llamo a las funciones definidas al principio de este codigo:\n",
    "imc             = calcular_imc(peso_corporal, altura_cm)\n",
    "clasificacion   = clasificar_imc(imc)\n",
    "\n",
    "\n",
    "print(f\"***Su peso es de {peso_corporal} kg y su altura es de {altura_cm / 100} m.\")\n",
    "print(f\"***Su IMC es {imc}. Clasificación: {clasificacion}\")\n",
    "print(\"***Tenga presente que esta clasificación tiene limitaciones y cualquier interpretación debe ser acompañada por un profesional***\")"
   ]
  },
  {
   "cell_type": "markdown",
   "metadata": {},
   "source": [
    "### Exercici 2\n",
    "\n",
    "Convertidor de temperatures.\n",
    "\n",
    "Existeixen diverses unitats de temperatura utilitzades en diferents contextos i regions. Les més comunes són Celsius (°C), Fahrenheit (°F) i Kelvin (K). També existeixen altres unitats com Rankine (°Ra) i Réaumur (°Re). Selecciona almenys 2 i construeix el convertidor."
   ]
  },
  {
   "cell_type": "code",
   "execution_count": 8,
   "metadata": {},
   "outputs": [
    {
     "name": "stdout",
     "output_type": "stream",
     "text": [
      "293.15 68.0 527.6700000000001 16.0\n"
     ]
    }
   ],
   "source": [
    "# El mas facil seria kevil y celcius\n",
    "celsius = int(input(\"ingrese grados \"))\n",
    "\n",
    "kelvin      = celsius + 273.15\n",
    "Fahrenheit  = 1.8* celsius + 32\n",
    "rankine     = 9/5*celsius + 491.67 \n",
    "reaumur     = celsius * 4/5\n",
    "\n",
    "print(kelvin, Fahrenheit, rankine, reaumur)\n"
   ]
  }
 ],
 "metadata": {
  "kernelspec": {
   "display_name": "Python 3",
   "language": "python",
   "name": "python3"
  },
  "language_info": {
   "codemirror_mode": {
    "name": "ipython",
    "version": 3
   },
   "file_extension": ".py",
   "mimetype": "text/x-python",
   "name": "python",
   "nbconvert_exporter": "python",
   "pygments_lexer": "ipython3",
   "version": "3.12.3"
  }
 },
 "nbformat": 4,
 "nbformat_minor": 2
}
