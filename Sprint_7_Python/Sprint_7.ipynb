{
 "cells": [
  {
   "cell_type": "markdown",
   "metadata": {},
   "source": [
    "### Exercici 1\n",
    "\n",
    "Calculadora de l'índex de massa corporal\n",
    "\n",
    "Escriu una funció que calculi l'IMC ingressat per l'usuari/ària, és a dir, qui ho executi haurà d'ingressar aquestes dades. La funció ha de classificar el resultat en les seves respectives categories"
   ]
  },
  {
   "cell_type": "code",
   "execution_count": 30,
   "metadata": {},
   "outputs": [
    {
     "name": "stdout",
     "output_type": "stream",
     "text": [
      "Su IMC es 18.52. Clasificación: Peso normal\n"
     ]
    }
   ],
   "source": [
    "# Solicito la información al usuario:\n",
    "\n",
    "\"\"\" \n",
    "Es posible gerenerar\n",
    "\"\"\"\n",
    "\n",
    "peso_corporal   = float(input(\"Ingrese su peso corporal en Kg:\")) \n",
    "altura_cm       = float(input(\"Ingrese su altura en cm\"))/100 \n",
    "\n",
    "# Realizo el calculo de imc según la fórmula indicada:\n",
    "\n",
    "imc = peso_corporal/(altura_cm **2 )\n",
    "\n",
    "# Redondear el IMC a 2 decimales\n",
    "imc = round(imc, 2)\n",
    "\n",
    "# Clasificar el IMC\n",
    "if imc < 18.5:\n",
    "    clasificacion = \"Bajo peso\"\n",
    "elif 18.5 <= imc < 25:\n",
    "    clasificacion = \"Peso normal\"\n",
    "elif 25 <= imc < 30:\n",
    "    clasificacion = \"Sobrepeso\"\n",
    "else:\n",
    "    clasificacion = \"Obesidad\"\n",
    "\n",
    "# Imprimir el resultado. \n",
    "\n",
    "print(f\"Su IMC es {imc:.2f}. Clasificación: {clasificacion}\")"
   ]
  },
  {
   "cell_type": "code",
   "execution_count": 16,
   "metadata": {},
   "outputs": [
    {
     "name": "stdout",
     "output_type": "stream",
     "text": [
      "23.437499999999996\n"
     ]
    }
   ],
   "source": [
    "# Solicitar la información al usuario\n",
    "peso = 60\n",
    "altura = 160/100\n",
    "\n",
    "imc = peso/(altura*altura)\n",
    "\n",
    "\n",
    "# Clasificar el IMC\n",
    "if imc < 18.5:\n",
    "    clasificacion = \"Bajo peso\"\n",
    "elif 18.5 <= imc < 25:\n",
    "    clasificacion = \"Peso normal\"\n",
    "elif 25 <= imc < 30:\n",
    "    clasificacion = \"Sobrepeso\"\n",
    "else:\n",
    "    clasificacion = \"Obesidad\"\n",
    "\n"
   ]
  },
  {
   "cell_type": "code",
   "execution_count": null,
   "metadata": {},
   "outputs": [],
   "source": []
  }
 ],
 "metadata": {
  "kernelspec": {
   "display_name": "Python 3",
   "language": "python",
   "name": "python3"
  },
  "language_info": {
   "codemirror_mode": {
    "name": "ipython",
    "version": 3
   },
   "file_extension": ".py",
   "mimetype": "text/x-python",
   "name": "python",
   "nbconvert_exporter": "python",
   "pygments_lexer": "ipython3",
   "version": "3.12.3"
  }
 },
 "nbformat": 4,
 "nbformat_minor": 2
}
