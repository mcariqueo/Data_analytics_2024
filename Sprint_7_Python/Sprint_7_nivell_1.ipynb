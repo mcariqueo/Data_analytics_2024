{
 "cells": [
  {
   "cell_type": "markdown",
   "metadata": {},
   "source": [
    "### Exercici 1: Calculadora de l'índex de massa corporal\n",
    "Escriu una funció que calculi l'IMC ingressat per l'usuari/ària, és a dir, qui ho executi haurà d'ingressar aquestes dades. La funció ha de classificar el resultat en les seves respectives categories"
   ]
  },
  {
   "cell_type": "code",
   "execution_count": 7,
   "metadata": {},
   "outputs": [
    {
     "name": "stdout",
     "output_type": "stream",
     "text": [
      " Calculadora de l'índex de massa corporal (IMC)\n",
      "        Su peso es de 90.0 kg y su altura es de 1.6 m.\n",
      "        Su IMC es 35.16. Clasificación: Obesidad\n",
      "Tenga presente que esta clasificación tiene limitaciones y cualquier interpretación debe ser acompañada por un profesional\n"
     ]
    }
   ],
   "source": [
    "# FUNCION DE CALULAR IMC # CLASIFICACIÓN DEL IMC\n",
    "\n",
    "def calcular_imc_clasificacion(peso_corporal, altura_cm):\n",
    "    altura_m = altura_cm / 100                  # Convierto la altura de centímetros a metros\n",
    "    imc      = peso_corporal / (altura_m ** 2)  # Calculo el IMC utilizando la fórmula: peso / (altura al cuadrado)\n",
    "    imc      = round(imc, 2)                    # Redondeo el resultado a dos decimales\n",
    "    \n",
    "    if   imc  <  18.5     : clase = \"Bajo peso\"\n",
    "    elif 18.5 <= imc < 25 : clase = \"Peso normal\"\n",
    "    elif 25   <= imc < 30 : clase = \"Sobrepeso\"\n",
    "    else                  : clase = \"Obesidad\"\n",
    "    return imc , clase\n",
    "\n",
    "# BUCLE PARA SOLICITAR INFORMACION AL USUARIO Y VALIDARLA \n",
    "\n",
    "while True:\n",
    "    while True:\n",
    "        peso_corporal = float(input(\"Ingrese su peso corporal en Kg: \"))\n",
    "        if 40 <= peso_corporal <= 150:  \n",
    "            break\n",
    "        print(\"El peso corporal debe estar entre 40 y 150 kg.\")\n",
    "    \n",
    "    while True:\n",
    "        altura_cm = float(input(\"Ingrese su altura en cm: \"))\n",
    "        if 100 <= altura_cm <= 250: break\n",
    "        print(\"La altura debe estar entre 100 y 250 cm.\")\n",
    "\n",
    "    # Si ambos valores están dentro del rango, salir del bucle externo\n",
    "    break\n",
    "\n",
    "# Llamo a las funciones definidas al principio de este codigo:\n",
    "imc, clase   = calcular_imc_clasificacion(peso_corporal, altura_cm)\n",
    "\n",
    "print(\" Calculadora de l'índex de massa corporal (IMC)\\n\" +\n",
    "      f\"        Su peso es de {peso_corporal} kg y su altura es de {altura_cm / 100} m.\\n\" +\n",
    "      f\"        Su IMC es {imc}. Clasificación: {clase}\\n\" +\n",
    "      \"Tenga presente que esta clasificación tiene limitaciones y cualquier interpretación debe ser acompañada por un profesional\")\n"
   ]
  },
  {
   "cell_type": "markdown",
   "metadata": {},
   "source": [
    "### Exercici 2\n",
    "\n",
    "Convertidor de temperatures.\n",
    "\n",
    "Existeixen diverses unitats de temperatura utilitzades en diferents contextos i regions. Les més comunes són Celsius (°C), Fahrenheit (°F) i Kelvin (K). També existeixen altres unitats com Rankine (°Ra) i Réaumur (°Re). Selecciona'n almenys 2 i construeix el convertidor."
   ]
  },
  {
   "cell_type": "code",
   "execution_count": 8,
   "metadata": {},
   "outputs": [
    {
     "name": "stdout",
     "output_type": "stream",
     "text": [
      "60.0 º Fahrenheit equivale a 288.71 º Kelvin\n"
     ]
    }
   ],
   "source": [
    "def seleccionar_unidad_inicial():\n",
    "    opcion = input(\"Seleccione la unidad de temperatura 1: Celsius (C), 2: Fahrenheit (F), 3: Kelvin (K), 4: Rankine, 5: Reaumur: \")\n",
    "    if   opcion == \"1\": return \"Celsius\"\n",
    "    elif opcion == \"2\": return \"Fahrenheit\"\n",
    "    elif opcion == \"3\": return \"Kelvin\"\n",
    "    elif opcion == \"4\": return \"Rankine\"\n",
    "    elif opcion == \"5\": return \"Reaumur\"\n",
    "    else:   \n",
    "        print(\"Error: Ingrese un número válido.\") \n",
    "        return seleccionar_unidad_inicial()  # Llamar recursivamente a la función si la entrada no es válida\n",
    "\n",
    "def ingresar_grados(): \n",
    "    grados = float(input(\"Ingrese la temperatura: \"))\n",
    "    return grados\n",
    "\n",
    "def seleccionar_unidad_destino():\n",
    "    opcion = input(\"Seleccione la unidad de temperatura destino 1: Celsius (C), 2: Fahrenheit (F), 3: Kelvin (K), 4: Rankine, 5: Reaumur: \")\n",
    "    if   opcion == \"1\": return \"Celsius\"\n",
    "    elif opcion == \"2\": return \"Fahrenheit\"\n",
    "    elif opcion == \"3\": return \"Kelvin\"\n",
    "    elif opcion == \"4\": return \"Rankine\"\n",
    "    elif opcion == \"5\": return \"Reaumur\"\n",
    "    else:   \n",
    "        print(\"Error: Ingrese un número válido.\")\n",
    "        return seleccionar_unidad_destino()  # Llamar recursivamente a la función si la entrada no es válida\n",
    "\n",
    "def convertidor(temp, unidad_origen, unidad_destino):\n",
    "    if   unidad_origen == \"Celsius\"    and unidad_destino == \"Fahrenheit\" :   return (temp * 1.8) + 32\n",
    "    elif unidad_origen == \"Fahrenheit\" and unidad_destino == \"Celsius\"    :   return (temp - 32) / 1.8\n",
    "    elif unidad_origen == \"Kelvin\"     and unidad_destino == \"Celsius\"    :   return temp - 273.15\n",
    "    elif unidad_origen == \"Celsius\"    and unidad_destino == \"Kelvin\"     :   return temp + 273.15\n",
    "    elif unidad_origen == \"Fahrenheit\" and unidad_destino == \"Kelvin\"     :   return (temp - 32) / 1.8 + 273.15\n",
    "    elif unidad_origen == \"Kelvin\"     and unidad_destino == \"Fahrenheit\" :   return (temp - 273.15) * 1.8 + 32\n",
    "    elif unidad_origen == \"Celsius\"    and unidad_destino == \"Rankine\"    :   return temp * 9/5 + 491.67\n",
    "    elif unidad_origen == \"Rankine\"    and unidad_destino == \"Celsius\"    :   return (temp - 491.67) * 5/9\n",
    "    elif unidad_origen == \"Fahrenheit\" and unidad_destino == \"Rankine\"    :   return temp + 459.67\n",
    "    elif unidad_origen == \"Rankine\"    and unidad_destino == \"Fahrenheit\" :   return temp - 459.67\n",
    "    elif unidad_origen == \"Reaumur\"    and unidad_destino == \"Celsius\"    :   return temp * 5/4\n",
    "    elif unidad_origen == \"Celsius\"    and unidad_destino == \"Reaumur\"    :   return temp * 4/5\n",
    "    else:\n",
    "        return \"No es una conversión válida\"\n",
    "\n",
    "# Ejecuto las funciones que definí arriba\n",
    "\n",
    "unidad_inicial  =   seleccionar_unidad_inicial()    # Solicito las unidades inciales\n",
    "temperatura     =   ingresar_grados()               # Solicito los grados , numeros\n",
    "unidad_destino  =   seleccionar_unidad_destino()    # Solicito la unidad a la que quiere convertir\n",
    "\n",
    "# Realizar la conversión de temperatura -> redondeo la cifra a dos decimales\n",
    "temperatura_convertida  = round((convertidor(temperatura, unidad_inicial, unidad_destino)), 2)\n",
    "\n",
    "# Imprimo el resultado de la conversión\n",
    "print(f\"{temperatura} º {unidad_inicial} equivale a {temperatura_convertida} º {unidad_destino}\")"
   ]
  },
  {
   "cell_type": "markdown",
   "metadata": {},
   "source": [
    "### Exercici 3\n",
    "\n",
    "Comptador de paraules d'un text.\n",
    "\n",
    "Escriu una funció que donat un text, mostri les vegades que apareix cada paraula."
   ]
  },
  {
   "cell_type": "code",
   "execution_count": null,
   "metadata": {},
   "outputs": [],
   "source": [
    "def contar_palabras(texto):\n",
    "    # Creo una variable signos_puntuacion que contiene una cadena con los signos de puntuación que se deben eliminar del texto que se ingrese:\n",
    "    signos_puntuacion = '''!()-[]{};:'\",<>./?@#$%^&*_~'''\n",
    "    \n",
    "    # Utilizo un bucle \"for\" para recorrer cada signo de puntuación en signos_puntuacion.\n",
    "    for signo in signos_puntuacion:\n",
    "        texto = texto.replace(signo, '')        # Reemplazo cada signo de puntuación por una cadena vacía (''), eliminándolo del texto.\n",
    "\n",
    "    # Se almacena la lista de palabras en la variable \"palabras\"\n",
    "    palabras = texto.lower().split()            # Converto las palabras a minusculas (lower) y divido el texto en una lista de palabras (split)\n",
    "    len_palabras = len(palabras)                # Contar las palabras\n",
    "\n",
    "    # Contar la frecuencia de cada palabra\n",
    "    conteo_palabras = {}                        # Creo un diccionario vacío llamado 'conteo_palabras'\n",
    "    for palabra in palabras:                    # Se utiliza un bucle for para recorrer cada palabra en la lista palabras\n",
    "        if palabra in conteo_palabras:\n",
    "            conteo_palabras[palabra] += 1       # Si la palabra actual ya está en el diccionario conteo_palabras: Se incrementa el valor asociado a esa palabra en 1.\n",
    "        else:\n",
    "            conteo_palabras[palabra] = 1        # Si la palabra actual no está en el diccionario conteo_palabras: Se agrega la palabra al diccionario con un valor inicial de 1.\n",
    "\n",
    "    # Ordenar el diccionario por orden alfabético:\n",
    "    conteo_palabras_ordenado = dict(sorted(conteo_palabras.items()))  # El resultado se convierte en un nuevo diccionario usando la función dict()\n",
    "    # Se devuelve una tupla que contiene: La lista de palabras palabras, El número total de palabras len_palabras y el diccionario ordenado de conteo de palabras conteo_palabras_ordenado.\n",
    "    return palabras, len_palabras, conteo_palabras_ordenado \n",
    "\n",
    "# Defino un texto de ejemplo.\n",
    "texto = \"hola soy Marcial pepo Marcial , Marcial a es un Marcial que dice: hola\"\n",
    "\n",
    "# Se llama a la función contar_palabras() con el texto de ejemplo como argumento\n",
    "palabras, len_palabras, conteo_palabras = contar_palabras(texto) \n",
    "\n",
    "# Imprimir resultados de manera bonita\n",
    "print(\"Texto original:\", texto)\n",
    "print(\"Cantidad total de palabras:\", len_palabras)\n",
    "print(\"\\nConteo de palabras (ordenadas alfabéticamente):\")\n",
    "for palabra, conteo in conteo_palabras.items():\n",
    "    print(f\"{palabra}: {conteo}\")"
   ]
  },
  {
   "cell_type": "markdown",
   "metadata": {},
   "source": [
    "Ejercicio 4\n",
    "Diccionario inverso.\n",
    "\n",
    "Resulta que el cliente tiene una encuesta muy antigua que se almacena en un diccionario y los resultados los necesita a la inversa, es decir, intercambiados las claves y valores. Los valores y claves en el diccionario original son únicos; si éste no es el caso, la función debería imprimir un mensaje de advertencia."
   ]
  },
  {
   "cell_type": "code",
   "execution_count": null,
   "metadata": {},
   "outputs": [],
   "source": [
    "# Definición de la Función inverso: defino función llamada inverso que toma un parámetro 'dictionary' \n",
    "def inverso(dictionary):\n",
    "    #  Verifico de unicidad de valores: \n",
    "    # uitilizo la función 'set', ya que así me crea un set de datos que serán unicos.\n",
    "    if len(dictionary.values()) != len(set(dictionary.values())): \n",
    "        # si el len de 'dictionary' es distinto a len(set) significa que hay elementros repetidos.\n",
    "        print(\"Error: multiple keys for one value\")\n",
    "        return None # la funcion devuelve 'none' para indicar que no puede invertirlos\n",
    "    \n",
    "    # Invierto las claves y valores del diccionario: -\n",
    "    # Creo un nuevo diccionario donde cada clave k y valor v en el diccionario intercambian de lugar.\n",
    "    orden_inverso = {v: k for k, v in dictionary.items()} \n",
    "    # Finalmente tengo la función terminada\n",
    "    return orden_inverso\n",
    "\n",
    "\n",
    "# Pruebas\n",
    "\n",
    "# Prueba 1: Diccionario con Valores Únicos\n",
    "\n",
    "dictionary = {\"a\": 1, \"b\": 2, \"c\": 3}           # Defino un diccionario con valores únicos.\n",
    "print(\"Diccionario original Prueba 1:\", dictionary)\n",
    "resultado = inverso(dictionary)                 # Llamo a la función inverso y almaceno el resultado.\n",
    "if resultado is not None:                       # Verifico si error de valores duplicados).\n",
    "   print(\"Diccionario inverso  Prueba 1:\", resultado)   # Imprimo el diccionario invertido.\n",
    "\n",
    "# Prueba 2:  Defino un diccionario con valores duplicados.\n",
    "dictionary = {\"x\": \"apple\", \"y\": \"banana\", \"z\": \"banana\"}    \n",
    "print(\"Diccionario original Prueba 2:\", dictionary) \n",
    "resultado = inverso(dictionary)                 # Llamo a la función inverso y almaceno el resultado.\n",
    "if resultado is not None:                       # Verifico si el resultado no es None                                       \n",
    "    print(\"Diccionario inverso Prueba 2:\", resultado)  # Imprimo el diccionario invertido.\n"
   ]
  }
 ],
 "metadata": {
  "kernelspec": {
   "display_name": "Python 3",
   "language": "python",
   "name": "python3"
  },
  "language_info": {
   "codemirror_mode": {
    "name": "ipython",
    "version": 3
   },
   "file_extension": ".py",
   "mimetype": "text/x-python",
   "name": "python",
   "nbconvert_exporter": "python",
   "pygments_lexer": "ipython3",
   "version": "3.12.3"
  }
 },
 "nbformat": 4,
 "nbformat_minor": 2
}
