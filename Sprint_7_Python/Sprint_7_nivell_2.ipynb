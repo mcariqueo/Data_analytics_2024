{
 "cells": [
  {
   "cell_type": "markdown",
   "metadata": {},
   "source": [
    "Exercici 1\n",
    "Diccionari invers amb duplicats\n",
    "\n",
    "Continuant amb l'exercici 4 del nivell 1: al client es va oblidar de comentar un detall i resulta que els valors en el diccionari original poden duplicar-se i més, per la qual cosa les claus intercanviades poden tenir duplicats. En aquest cas, en l'exercici anterior imprimies un missatge d'advertiment, ara, els valors del diccionari resultant hauran d'emmagatzemar-se com una llista. Tingues en compte que si és un valor únic no ha de ser una llista."
   ]
  },
  {
   "cell_type": "code",
   "execution_count": null,
   "metadata": {},
   "outputs": [],
   "source": [
    "# GENERO UN DICCIONARIO DE MANERA RANDOM PARA PODER EVALUAR EL CÓDIGO\n",
    "import random\n",
    "import string \n",
    "from collections import defaultdict\n",
    "def generate_random_dict_and_group(size):\n",
    "    random_dict = {}\n",
    "    for _ in range(size):\n",
    "        letra = random.choice(string.ascii_lowercase)\n",
    "        valor_numerico = random.randint(1, 9)\n",
    "        random_dict[letra] = valor_numerico \n",
    "    grouped_dict = defaultdict(list)\n",
    "    for key, value in random_dict.items():\n",
    "        grouped_dict[value].append(key) \n",
    "    return random_dict, grouped_dict\n",
    "size = 5\n",
    "random_dict, grouped_dict = generate_random_dict_and_group(size)\n",
    "\n",
    "print(\"Diccionarios generados:\\n\" , random_dict) # , print(\"numero elementos: \\n\" ,len(random_dict) )\n",
    "\n",
    "# CREO UNA FUNCION QUE SEPARA EL DICCIONARIO Y SUB GRUPOS \n",
    "# POSTERIOR INVERTE value:key --> key:value\n",
    "# CREO UN NUEVO DICCIONARIO CON LA INSTRUCCION DADA\n",
    "\n",
    "def separar_invertir(random_dict):\n",
    "    grouped_dict = {}\n",
    "    for key, value in random_dict.items():\n",
    "        if value in grouped_dict:\n",
    "            grouped_dict[value].append(key)\n",
    "        else:\n",
    "            grouped_dict[value] = [key]\n",
    "    return grouped_dict\n",
    "\n",
    "sep = dict(separar_invertir(random_dict))\n",
    "\n",
    "# IMPRIMO EL RESULTADO \n",
    "print(\"Diccionario separado e invertido:\")\n",
    "for key, value in sep.items():\n",
    "    print(key, \":\", value)\n"
   ]
  },
  {
   "cell_type": "markdown",
   "metadata": {},
   "source": [
    "### Exercici 2\n",
    "Conversió de tipus de dades\n",
    "\n",
    "El client rep una llista de dades i necessita generar dues llistes, la primera on estaran tots els elements que es van poder convertir en flotants i l'altra on estan els elements que no es van poder convertir. Exemple de la llista que rep el client: [ '1.3', 'one' , '1e10' , 'seven', '3-1/2', ('2',1,1.4,'not-a-number'), [1,2,'3','3.4']]\n",
    "\n"
   ]
  },
  {
   "cell_type": "code",
   "execution_count": 377,
   "metadata": {},
   "outputs": [
    {
     "name": "stdout",
     "output_type": "stream",
     "text": [
      "Elemento 1 : 1.3\n",
      "Elemento 2 : one\n",
      "Elemento 3 : 1e10\n",
      "Elemento 4 : seven\n",
      "Elemento 5 : 3-1/2\n",
      "Elemento 6 : ('2', 1, 1.4, 'not-a-number')\n",
      "Elemento 7 : [1, 2, '3', '3.4']\n",
      "['1.3', 'one', '1e10', 'seven', '3-1/2', ('2', 1, 1.4, 'not-a-number'), [1, 2, '3', '3.4']]\n"
     ]
    }
   ],
   "source": [
    "# ESTA ES LA LISTA DEL CLIENTE. TIPO LISTA:\n",
    "lista_del_cliente = [ '1.3', 'one' , '1e10' , 'seven', '3-1/2', ('2',1,1.4,'not-a-number'), [1,2,'3','3.4']]\n",
    "\n",
    "# BUCLE PARA IMPRIMIR CADA ELEMENTO DE LA LISTA asi lo separo\n",
    "for indice, elemento in enumerate(lista_del_cliente, start=1):\n",
    "    print(\"Elemento\", indice, \":\", elemento)\n",
    "\n",
    "# LO VUELVO A JUNTAR\n",
    "lista_mca = []\n",
    "for elemento in lista_del_cliente:\n",
    "        lista_mca.append(elemento)\n",
    "\n",
    "print(lista_mca)\n",
    "\n",
    "\n",
    "\n",
    "\n",
    "\n"
   ]
  },
  {
   "cell_type": "code",
   "execution_count": null,
   "metadata": {},
   "outputs": [],
   "source": []
  }
 ],
 "metadata": {
  "kernelspec": {
   "display_name": "Python 3",
   "language": "python",
   "name": "python3"
  },
  "language_info": {
   "codemirror_mode": {
    "name": "ipython",
    "version": 3
   },
   "file_extension": ".py",
   "mimetype": "text/x-python",
   "name": "python",
   "nbconvert_exporter": "python",
   "pygments_lexer": "ipython3",
   "version": "3.12.3"
  }
 },
 "nbformat": 4,
 "nbformat_minor": 2
}
