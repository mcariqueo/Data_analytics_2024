{
 "cells": [
  {
   "cell_type": "code",
   "execution_count": 50,
   "metadata": {},
   "outputs": [
    {
     "name": "stdout",
     "output_type": "stream",
     "text": [
      "['hola', 'soy', 'marcial', 'pepo', 'marcial', 'marcial', 'a', 'es', 'un', 'marcial', 'que', 'dice', 'hola']\n",
      "13\n",
      "Conteo de palabras: {'hola': 2, 'soy': 1, 'marcial': 4, 'pepo': 1, 'a': 1, 'es': 1, 'un': 1, 'que': 1, 'dice': 1}\n"
     ]
    }
   ],
   "source": [
    "# Este será el texto que trabajaré. El texto tiene signos y puntos que debo eliminar\n",
    "texto = \"hola soy marcial pepo marcial , marcial a es un marcial que dice: hola\"\n",
    "\n",
    "# Definir los signos de puntuación que quieres eliminar\n",
    "signos_puntuacion = '''!()-[]{};:'\",<>./?@#$%^&*_~'''\n",
    "\n",
    "# Eliminar los signos de puntuación del texto a través de un bucle for\n",
    "for signo in signos_puntuacion:\n",
    "    texto = texto.replace(signo, '')\n",
    "\n",
    "# Convertir el texto en una lista de palabras\n",
    "palabras = texto.split()        # Separamos el texto en palabras usando split esto me va a generar una lista.\n",
    "len_palabras = len(palabras)    # como \"palabras\" es una lista, con la función len cuento los elementos\n",
    "\n",
    "# Contamos cuántas veces se repite cada palabra\n",
    "conteo_palabras = {} # primero creo el elemneto que va a almacenar el resultado de cada bucle\n",
    "# genero el bucle\n",
    "for palabra in palabras:\n",
    "    if palabra in conteo_palabras:\n",
    "        conteo_palabras[palabra] += 1\n",
    "    else:\n",
    "        conteo_palabras[palabra] = 1\n",
    "\n",
    "\n",
    "# Imprimo resultados\n",
    "print(palabras)\n",
    "print(len_palabras)\n",
    "print(\"Conteo de palabras:\", conteo_palabras) # Imprimimos el conteo de cada palabra\n",
    "\n"
   ]
  },
  {
   "cell_type": "code",
   "execution_count": 52,
   "metadata": {},
   "outputs": [
    {
     "name": "stdout",
     "output_type": "stream",
     "text": [
      "Texto original: La Real Academia Española (RAE) es una institución cultural española con sede en Madrid, España. Es así como todo todo sea hace\n",
      "\n",
      "Palabras: ['la', 'real', 'academia', 'española', 'rae', 'es', 'una', 'institución', 'cultural', 'española', 'con', 'sede', 'en', 'madrid', 'españa', 'es', 'así', 'como', 'todo', 'todo', 'sea', 'hace']\n",
      "Cantidad total de palabras: 22\n",
      "\n",
      "Conteo de palabras:\n",
      "la : 1\n",
      "real : 1\n",
      "academia : 1\n",
      "española : 2\n",
      "rae : 1\n",
      "es : 2\n",
      "una : 1\n",
      "institución : 1\n",
      "cultural : 1\n",
      "con : 1\n",
      "sede : 1\n",
      "en : 1\n",
      "madrid : 1\n",
      "españa : 1\n",
      "así : 1\n",
      "como : 1\n",
      "todo : 2\n",
      "sea : 1\n",
      "hace : 1\n"
     ]
    }
   ],
   "source": [
    "def contar_palabras(texto):\n",
    "    signos_puntuacion = '''!()-[]{};:'\",<>./?@#$%^&*_~''' # Definir los signos de puntuación que quieres eliminar\n",
    "    \n",
    "    # Eliminar los signos de puntuación del texto\n",
    "    for signo in signos_puntuacion:\n",
    "        texto = texto.replace(signo, '')\n",
    "        \n",
    "    # Convertir el texto en una lista de palabras\n",
    "    palabras = texto.lower().split()\n",
    "\n",
    "    # Contar las palabras: como palabras es una lista, puedo simplemente aplicar el \"len\" para que me diga el numero de elementos. \n",
    "    len_palabras = len(palabras)\n",
    "\n",
    "    # Contar cuántas veces se repite cada palabra\n",
    "    conteo_palabras = {}\n",
    "    for palabra in palabras:\n",
    "        if palabra in conteo_palabras:\n",
    "            conteo_palabras[palabra] += 1\n",
    "        else:\n",
    "            conteo_palabras[palabra] = 1\n",
    "\n",
    "    # Devolver los resultados\n",
    "    return palabras, len_palabras, conteo_palabras\n",
    "\n",
    "# Ejemplo de uso de la función\n",
    "texto = \"La Real Academia Española (RAE) es una institución cultural española con sede en Madrid, España. Es así como todo todo sea hace\"\n",
    "palabras, len_palabras, conteo_palabras = contar_palabras(texto)\n",
    "\n",
    "# Imprimir resultados de manera bonita\n",
    "print(\"Texto original:\", texto)\n",
    "print(\"\\nPalabras:\", palabras)\n",
    "print(\"Cantidad total de palabras:\", len_palabras)\n",
    "print(\"\\nConteo de palabras:\")\n",
    "for palabra, conteo in conteo_palabras.items():\n",
    "    print(f\"{palabra} : {conteo}\")"
   ]
  },
  {
   "cell_type": "code",
   "execution_count": 53,
   "metadata": {},
   "outputs": [
    {
     "name": "stdout",
     "output_type": "stream",
     "text": [
      "Texto original: hola soy Marcial pepo Marcial , Marcial a es un Marcial que dice: hola\n",
      "\n",
      "Palabras: ['hola', 'soy', 'marcial', 'pepo', 'marcial', 'marcial', 'a', 'es', 'un', 'marcial', 'que', 'dice', 'hola']\n",
      "Cantidad total de palabras: 13\n",
      "\n",
      "Conteo de palabras (ordenadas alfabéticamente):\n",
      "a: 1\n",
      "dice: 1\n",
      "es: 1\n",
      "hola: 2\n",
      "marcial: 4\n",
      "pepo: 1\n",
      "que: 1\n",
      "soy: 1\n",
      "un: 1\n"
     ]
    }
   ],
   "source": [
    "def contar_palabras(texto):\n",
    "    # Definir los signos de puntuación que quieres eliminar\n",
    "    signos_puntuacion = '''!()-[]{};:'\",<>./?@#$%^&*_~'''\n",
    "    \n",
    "    # Eliminar los signos de puntuación del texto\n",
    "    for signo in signos_puntuacion:\n",
    "        texto = texto.replace(signo, '')\n",
    "\n",
    "    # Convertir el texto en una lista de palabras y convertirlas a minúsculas\n",
    "    palabras = texto.lower().split()\n",
    "\n",
    "    # Contar las palabras\n",
    "    len_palabras = len(palabras)\n",
    "\n",
    "    # Contar cuántas veces se repite cada palabra\n",
    "    conteo_palabras = {}\n",
    "    for palabra in palabras:\n",
    "        if palabra in conteo_palabras:\n",
    "            conteo_palabras[palabra] += 1\n",
    "        else:\n",
    "            conteo_palabras[palabra] = 1\n",
    "\n",
    "    # Ordenar el diccionario de conteo de palabras por las claves (las palabras)\n",
    "    conteo_palabras_ordenado = dict(sorted(conteo_palabras.items()))\n",
    "\n",
    "    # Devolver los resultados\n",
    "    return palabras, len_palabras, conteo_palabras_ordenado\n",
    "\n",
    "# Ejemplo de uso de la función\n",
    "texto = \"hola soy Marcial pepo Marcial , Marcial a es un Marcial que dice: hola\"\n",
    "palabras, len_palabras, conteo_palabras = contar_palabras(texto)\n",
    "\n",
    "# Imprimir resultados de manera bonita\n",
    "print(\"Texto original:\", texto)\n",
    "print(\"\\nPalabras:\", palabras)\n",
    "print(\"Cantidad total de palabras:\", len_palabras)\n",
    "print(\"\\nConteo de palabras (ordenadas alfabéticamente):\")\n",
    "for palabra, conteo in conteo_palabras.items():\n",
    "    print(f\"{palabra}: {conteo}\")\n"
   ]
  },
  {
   "cell_type": "code",
   "execution_count": null,
   "metadata": {},
   "outputs": [],
   "source": [
    "# contar nuemero de palabras\n",
    "# como palabras es una lista, puedo contar los elementos simplemente haciendo un \"len\" \n",
    "print(\"Numero de palabras\",len(palabras))\n",
    "\n",
    "# Contamos cuántas veces se repite cada palabra\n",
    "conteo_palabras = {} # primero creo el elemneto que va a almacenar el resultado de cada bucle\n",
    "# genero el bucle\n",
    "for palabra in palabras:\n",
    "    if palabra in conteo_palabras:\n",
    "        conteo_palabras[palabra] += 1\n",
    "    else:\n",
    "        conteo_palabras[palabra] = 1\n",
    "\n",
    "# Imprimimos el conteo de cada palabra\n",
    "print(\"Conteo de palabras:\", conteo_palabras)\n"
   ]
  },
  {
   "cell_type": "code",
   "execution_count": 6,
   "metadata": {},
   "outputs": [
    {
     "name": "stdout",
     "output_type": "stream",
     "text": [
      "<class 'list'>\n",
      "Lista de palabras: ['hola', 'soy', 'marcial']\n",
      "Número de palabras en el texto: 3\n"
     ]
    }
   ],
   "source": [
    "# Definimos el texto\n",
    "texto = \"hola soy marcial\"\n",
    "\n",
    "# Separamos el texto en palabras usando split\n",
    "palabras = texto.split()\n",
    "print(type(palabras))\n",
    "\n",
    "# Imprimimos la lista de palabras\n",
    "print(\"Lista de palabras:\", palabras)\n",
    "\n",
    "# Contamos el número de palabras\n",
    "numero_de_palabras = len(palabras)\n",
    "\n",
    "# Imprimimos el número de palabras\n",
    "print(\"Número de palabras en el texto:\", numero_de_palabras)\n"
   ]
  }
 ],
 "metadata": {
  "kernelspec": {
   "display_name": "Python 3",
   "language": "python",
   "name": "python3"
  },
  "language_info": {
   "codemirror_mode": {
    "name": "ipython",
    "version": 3
   },
   "file_extension": ".py",
   "mimetype": "text/x-python",
   "name": "python",
   "nbconvert_exporter": "python",
   "pygments_lexer": "ipython3",
   "version": "3.12.3"
  }
 },
 "nbformat": 4,
 "nbformat_minor": 2
}
