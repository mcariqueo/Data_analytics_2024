{
 "cells": [
  {
   "cell_type": "code",
   "execution_count": null,
   "metadata": {},
   "outputs": [],
   "source": [
    "# Solicitar al usuario su peso corporal en kilogramos\n",
    "peso_corporal = float(input(\"Ingrese su peso corporal en Kg: \"))\n",
    "\n",
    "# Solicitar al usuario su altura en centímetros y convertirla a metros\n",
    "altura_cm = float(input(\"Ingrese su altura en cm: \"))\n",
    "altura_m = altura_cm / 100\n",
    "\n",
    "# Calcular el IMC usando la fórmula: peso / (altura ^ 2)\n",
    "imc = peso_corporal / (altura_m ** 2)\n",
    "\n",
    "# Redondear el IMC a 2 decimales\n",
    "imc = round(imc, 2)\n",
    "\n",
    "# Clasificar el IMC en categorías\n",
    "if imc < 18.5:\n",
    "    clasificacion = \"Bajo peso\"\n",
    "elif 18.5 <= imc < 25:\n",
    "    clasificacion = \"Peso normal\"\n",
    "elif 25 <= imc < 30:\n",
    "    clasificacion = \"Sobrepeso\"\n",
    "else:\n",
    "    clasificacion = \"Obesidad\"\n",
    "\n",
    "# Imprimir el peso y la altura del usuario\n",
    "print(f\"Su peso es de {peso_corporal} kg y su altura es de {altura_m} m.\")\n",
    "\n",
    "# Imprimir el IMC y su clasificación correspondiente\n",
    "print(f\"Su IMC es {imc}. Clasificación: {clasificacion}\")"
   ]
  },
  {
   "cell_type": "code",
   "execution_count": 1,
   "metadata": {},
   "outputs": [
    {
     "name": "stdout",
     "output_type": "stream",
     "text": [
      "Su peso es de 60.0 kg y su altura es de 1.8 m.\n",
      "Su IMC es 18.52. Clasificación: Peso normal\n",
      "Tenga presente que esta clasificación tiene limitaciones y cualquier interpretación debe ser acompañada por un profesional\n"
     ]
    }
   ],
   "source": [
    "# Defino la función para calcular el IMC\n",
    "def calcular_imc(peso_corporal, altura_cm):\n",
    "    # Convierto la altura de centímetros a metros\n",
    "    altura_m = altura_cm / 100\n",
    "    # Calculo el IMC utilizando la fórmula: peso / (altura al cuadrado)\n",
    "    imc = peso_corporal / (altura_m ** 2)\n",
    "    # Redondeo el resultado a dos decimales\n",
    "    imc = round(imc, 2)\n",
    "    # Devuelvo el valor del IMC calculado\n",
    "    return imc\n",
    "\n",
    "# Defino la función para clasificar el IMC\n",
    "def clasificar_imc(imc):\n",
    "    if imc < 18.5:\n",
    "        return \"Bajo peso\"\n",
    "    elif 18.5 <= imc < 25:\n",
    "        return \"Peso normal\"\n",
    "    elif 25 <= imc < 30:\n",
    "        return \"Sobrepeso\"\n",
    "    else:\n",
    "        return \"Obesidad\"\n",
    "\n",
    "# Genero un bucle while para que el usuario ingrese la información de peso y talla \n",
    "while True: \n",
    "    try:\n",
    "        # Solicito al usuario que ingrese su peso corporal en kg y su altura en cm\n",
    "        peso_corporal = float(input(\"Ingrese su peso corporal en Kg: \"))\n",
    "        altura_cm = float(input(\"Ingrese su altura en cm: \"))\n",
    "        \n",
    "        # Agrego condiciones para verificar si los datos ingresados están dentro de los rangos aceptables\n",
    "        if not (40 <= peso_corporal <= 150):\n",
    "            print(\"El peso corporal debe estar entre 40 y 150 kg.\")\n",
    "            continue\n",
    "        if not (100 <= altura_cm <= 250):\n",
    "            print(\"La altura debe estar entre 100 y 250 cm.\")\n",
    "            continue\n",
    "\n",
    "        # Llamo a las funciones definidas previamente para calcular el IMC y clasificarlo\n",
    "        imc = calcular_imc(peso_corporal, altura_cm)\n",
    "        clasificacion = clasificar_imc(imc)\n",
    "\n",
    "        # Imprimo los resultados del cálculo del IMC y su clasificación\n",
    "        print(f\"Su peso es de {peso_corporal} kg y su altura es de {altura_cm / 100} m.\")\n",
    "        print(f\"Su IMC es {imc}. Clasificación: {clasificacion}\")\n",
    "        print(\"Tenga presente que esta clasificación tiene limitaciones y cualquier interpretación debe ser acompañada por un profesional\")\n",
    "        # Salgo del bucle si se ingresaron valores válidos\n",
    "        break  \n",
    "    except ValueError:\n",
    "        # Capturo la excepción en caso de que el usuario ingrese un valor no válido\n",
    "        print(\"Por favor, ingrese números válidos para el peso y la altura.\")\n"
   ]
  },
  {
   "cell_type": "code",
   "execution_count": 2,
   "metadata": {},
   "outputs": [
    {
     "name": "stdout",
     "output_type": "stream",
     "text": [
      "             *** Calculadora de Índice de Masa Corporal (IMC) ***\n",
      "\n",
      "\n",
      "*** Su peso es de 60.0 kg y su altura es de 1.5 m.\n",
      "*** Su IMC es 26.67. Clasificación: Sobrepeso ***\n",
      "\n",
      "*** Tenga presente que esta clasificación tiene limitaciones y cualquier interpretación debe ser acompañada por un profesional ***\n"
     ]
    }
   ],
   "source": [
    "def calcular_imc(peso_corporal, altura_cm):\n",
    "    altura_m = altura_cm / 100                  \n",
    "    imc = peso_corporal / (altura_m ** 2)  \n",
    "    imc = round(imc, 2)                    \n",
    "    return imc                              \n",
    "\n",
    "def clasificar_imc(imc):\n",
    "    if imc < 18.5:\n",
    "        return \"Bajo peso\"\n",
    "    elif 18.5 <= imc < 25:\n",
    "        return \"Peso normal\"\n",
    "    elif 25 <= imc < 30:\n",
    "        return \"Sobrepeso\"\n",
    "    else:\n",
    "        return \"Obesidad\"\n",
    "\n",
    "print(\"             *** Calculadora de Índice de Masa Corporal (IMC) ***\\n\")\n",
    "\n",
    "peso_corporal = float(input(\"Ingrese su peso corporal en Kg: \"))\n",
    "altura_cm = float(input(\"Ingrese su altura en cm: \"))\n",
    "        \n",
    "if not (40 <= peso_corporal <= 150):\n",
    "    print(\"\\n*** El peso corporal debe estar entre 40 y 150 kg. ***\\n\")\n",
    "\n",
    "if not (100 <= altura_cm <= 250):\n",
    "    print(\"\\n*** La altura debe estar entre 100 y 250 cm. ***\\n\")\n",
    "\n",
    "imc = calcular_imc(peso_corporal, altura_cm)\n",
    "clasificacion = clasificar_imc(imc)\n",
    "\n",
    "print(f\"\\n*** Su peso es de {peso_corporal} kg y su altura es de {altura_cm / 100} m.\")\n",
    "print(f\"*** Su IMC es {imc}. Clasificación: {clasificacion} ***\\n\")\n",
    "print(\"*** Tenga presente que esta clasificación tiene limitaciones y cualquier interpretación debe ser acompañada por un profesional ***\")\n"
   ]
  },
  {
   "cell_type": "code",
   "execution_count": 3,
   "metadata": {},
   "outputs": [
    {
     "name": "stdout",
     "output_type": "stream",
     "text": [
      "             *** Calculadora de Índice de Masa Corporal (IMC) ***\n",
      "\n",
      "\n",
      "                     *** Su peso es de                       60.0 kg y su altura es de 1.5 m.\n",
      "                       *** Su IMC es                         26.67. Clasificación: Sobrepeso ***\n",
      "\n",
      "*** Tenga presente que esta clasificación tiene limitaciones y cualquier interpretación debe ser acompañada por un profesional ***\n"
     ]
    }
   ],
   "source": [
    "def calcular_imc(peso_corporal, altura_cm):\n",
    "    altura_m = altura_cm / 100                  \n",
    "    imc = peso_corporal / (altura_m ** 2)  \n",
    "    imc = round(imc, 2)                    \n",
    "    return imc                              \n",
    "\n",
    "def clasificar_imc(imc):\n",
    "    if imc < 18.5:\n",
    "        return \"Bajo peso\"\n",
    "    elif 18.5 <= imc < 25:\n",
    "        return \"Peso normal\"\n",
    "    elif 25 <= imc < 30:\n",
    "        return \"Sobrepeso\"\n",
    "    else:\n",
    "        return \"Obesidad\"\n",
    "\n",
    "print(\"             *** Calculadora de Índice de Masa Corporal (IMC) ***\\n\")\n",
    "\n",
    "peso_corporal = float(input(\"Ingrese su peso corporal en Kg: \"))\n",
    "altura_cm = float(input(\"Ingrese su altura en cm: \"))\n",
    "        \n",
    "if not (40 <= peso_corporal <= 150):\n",
    "    print(\"\\n*** El peso corporal debe estar entre 40 y 150 kg. ***\\n\")\n",
    "\n",
    "if not (100 <= altura_cm <= 250):\n",
    "    print(\"\\n*** La altura debe estar entre 100 y 250 cm. ***\\n\")\n",
    "\n",
    "imc = calcular_imc(peso_corporal, altura_cm)\n",
    "clasificacion = clasificar_imc(imc)\n",
    "\n",
    "print(f\"\\n{'*** Su peso es de'.center(60)} {peso_corporal} kg y su altura es de {altura_cm / 100} m.\")\n",
    "print(f\"{'*** Su IMC es'.center(60)} {imc}. Clasificación: {clasificacion} ***\\n\")\n",
    "print(\"*** Tenga presente que esta clasificación tiene limitaciones y cualquier interpretación debe ser acompañada por un profesional ***\")\n"
   ]
  }
 ],
 "metadata": {
  "kernelspec": {
   "display_name": "Python 3",
   "language": "python",
   "name": "python3"
  },
  "language_info": {
   "codemirror_mode": {
    "name": "ipython",
    "version": 3
   },
   "file_extension": ".py",
   "mimetype": "text/x-python",
   "name": "python",
   "nbconvert_exporter": "python",
   "pygments_lexer": "ipython3",
   "version": "3.12.3"
  }
 },
 "nbformat": 4,
 "nbformat_minor": 2
}
