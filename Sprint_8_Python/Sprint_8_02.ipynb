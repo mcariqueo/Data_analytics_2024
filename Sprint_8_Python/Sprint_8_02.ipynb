{
 "cells": [
  {
   "cell_type": "markdown",
   "metadata": {},
   "source": [
    "## **Ejercicio 8.02**\n",
    "\n",
    "Consiste en la elaboración de un informe de Power BI, aprovechando las capacidades analíticas de Python. Se utilizarán los scripts de Python creados previamente en la Tarea 1 para generar visualizaciones personalizadas con las bibliotecas Seaborn y Matplotlib. Estas visualizaciones estarán integradas en el informe de Power BI para ofrecer una comprensión más profunda de la capacidad del lenguaje de programación en la herramienta Power BI."
   ]
  },
  {
   "cell_type": "markdown",
   "metadata": {},
   "source": [
    "### **Plan de trabajo para la elaboración del informe en Power BI**"
   ]
  },
  {
   "cell_type": "markdown",
   "metadata": {},
   "source": [
    "### **Informe de Power BI con Integración de Visualizaciones de Python**\n",
    "\n",
    "**1. Importar Datos en Power BI**    \n",
    "\n",
    "Primero, abro Power BI. Luego, utilizo la opción \"Obtener datos\" para importar los datos que usé en mis scripts de Python.\n",
    "\n",
    "**2. Conexión a la base de datos MySQL y obtención de datos**       \n",
    "\n",
    "El siguiente script de Python se conecta a la base de datos MySQL 'TRADES4', obtiene los nombres de las tablas y almacena cada tabla en un DataFrame de pandas.\n"
   ]
  },
  {
   "cell_type": "markdown",
   "metadata": {},
   "source": [
    "```python\n",
    "    import mysql.connector\n",
    "    import pandas as pd\n",
    "\n",
    "    # CREO UNA CONEXIÓN PARA LA BASE DE DATOS 'TRADES4'\n",
    "    cnx = mysql.connector.connect(\n",
    "        user='root',\n",
    "        password='250301',\n",
    "        host='localhost',\n",
    "        database='trades4')\n",
    "    cursor = cnx.cursor()\n",
    "\n",
    "    # Obtener nombres de las tablas y las almaceno en una lista\n",
    "    cursor.execute(\"SHOW TABLES\")\n",
    "    table_names = [table_name for (table_name,) in cursor.fetchall()] \n",
    "    print(table_names)\n",
    "\n",
    "    # Obtener DataFrames de las tablas\n",
    "    dfs = {}\n",
    "    for table_name in table_names:\n",
    "        cursor.execute(f\"SELECT * FROM {table_name}\")\n",
    "        rows = cursor.fetchall()\n",
    "        df = pd.DataFrame(rows, columns=[desc[0] for desc in cursor.description])\n",
    "        dfs[table_name] = df\n",
    "\n",
    "    # Crear variables globales para cada DataFrame\n",
    "    for table_name, df in dfs.items():\n",
    "        globals()[f\"df_{table_name}\"] = df\n",
    "\n",
    "    # Cerrar cursor y conexión\n",
    "    cursor.close()\n",
    "    cnx.close()\n",
    "```"
   ]
  },
  {
   "cell_type": "markdown",
   "metadata": {},
   "source": [
    "**3. Establezco las relaciones**        \n",
    "\n",
    "Una vez que escribo el codigo, entonces lo que hago es crear el esquema para establecer las relaciones. \n",
    "\n",
    "El esquema es ![801](files_sprint8/801.png)."
   ]
  },
  {
   "cell_type": "markdown",
   "metadata": {},
   "source": [
    "**4 Añadir Scripts de Python en Power BI**       \n",
    "\n",
    "Power BI permite ejecutar scripts de Python directamente. Para hacerlo, voy a la pestaña \"Visualizaciones\" y selecciono el ícono de Python visual. Después, copio y pego el script de Python directamente en el editor de Power BI.\n",
    "\n",
    "![802](files_sprint8/802.png)."
   ]
  },
  {
   "cell_type": "markdown",
   "metadata": {},
   "source": [
    "**5. Seleccionar**      \n",
    "\n",
    "Esto garantiza que Power BI maneje los datos adecuadamente y que el gráfico muestre el número real de transacciones aceptadas y rechazadas, en lugar de simplemente la frecuencia.      \n",
    "\n",
    "![803](files_sprint8/803.png)\n"
   ]
  },
  {
   "cell_type": "markdown",
   "metadata": {},
   "source": [
    "**6. Cambiar nombre de la  tabla por `dataset`**\n",
    "\n",
    "Al cambiar el nombre de la tabla a `dataset`, facilito que el script funcione sin problemas y refleje correctamente la información necesaria. Sin esta selección, el gráfico no representará correctamente el número de transacciones."
   ]
  },
  {
   "cell_type": "markdown",
   "metadata": {},
   "source": [
    "# Ejercicio 1: Una variable numérica"
   ]
  },
  {
   "cell_type": "markdown",
   "metadata": {},
   "source": [
    "#### **Código**\n",
    "---\n",
    "```python\n",
    "#### IMPORTAR LAS LIBRERIAS NECESARIAS\n",
    "\n",
    "import pandas as pd\n",
    "from datetime import datetime\n",
    "import matplotlib.pyplot as plt\n",
    "import seaborn as sns\n",
    "\n",
    "#### Convertir 'birth_date' a formato de fecha y calcular la edad en años\n",
    "\n",
    "dataset['birth_date'] = pd.to_datetime(dataset['birth_date'], format='%b %d, %Y')\n",
    "dataset['age'] = datetime.now().year - dataset['birth_date'].dt.year\n",
    "\n",
    "#### Función para crear un boxplot con título\n",
    "def age_boxplot(df, column):\n",
    "    sns.set()\n",
    "    plt.figure(figsize=(8, 4))\n",
    "    \n",
    "    #### Crear el boxplot\n",
    "    ax = sns.boxplot(y=df[column], width=0.2, fliersize=5, linewidth=2.5)\n",
    "    ax.set_title(f'N1E1 - Boxplot de {column}', fontsize=12, fontweight='bold', pad=10)  # Título modificado\n",
    "    ax.set_ylabel(f'{column.capitalize()} (años)', fontsize=12, labelpad=10)\n",
    "    ax.grid(True, linestyle='--', linewidth=0.7)\n",
    "    ax.yaxis.set_tick_params(labelsize=10)\n",
    "    sns.despine(top=True, right=True)\n",
    "    \n",
    "    #### Anotar cuartiles a la derecha\n",
    "    quartiles = df[column].quantile([0.25, 0.5, 0.75])\n",
    "    for q, value in quartiles.items():\n",
    "        label = f'{int(q * 100)}%: {value:.1f}'\n",
    "        ax.text(0.125, value, label)\n",
    "    \n",
    "    #### Anotar mínimo, máximo y promedio a la izquierda\n",
    "    stats = {\n",
    "        'Edad mínima': df[column].min(),\n",
    "        'Edad máxima': df[column].max(),\n",
    "        'Edad Promedio': df[column].mean()\n",
    "    }\n",
    "    \n",
    "    #### Calcular posición vertical para los textos\n",
    "    max_value = max(df[column].max(), max(quartiles))\n",
    "    min_value = min(df[column].min(), min(quartiles))\n",
    "    vertical_position = max_value + 0.1 * (max_value - min_value)\n",
    "    \n",
    "    for i, (stat, value) in enumerate(stats.items(), start=1):\n",
    "        ax.text(-0.5, vertical_position - i * 1.2, f'{stat}: {value:.1f}', \n",
    "        verticalalignment='top', size='medium', color='black', weight='semibold')\n",
    "    \n",
    "    plt.savefig('Age_Boxplot.png')  # Guardar el gráfico como imagen\n",
    "    plt.close()  # Cerrar el gráfico para liberar recursos\n",
    "\n",
    "#### Llamar a la función de boxplot con el DataFrame y la columna específica\n",
    "age_boxplot(dataset, 'age')\n",
    "```\n",
    "---"
   ]
  },
  {
   "cell_type": "markdown",
   "metadata": {},
   "source": [
    "![811](files_sprint8/811.png)"
   ]
  },
  {
   "cell_type": "markdown",
   "metadata": {},
   "source": [
    "# Ejercicio 2: Dos variables numéricas"
   ]
  },
  {
   "cell_type": "markdown",
   "metadata": {},
   "source": [
    "#### **Código**\n",
    "---\n",
    "```python\n",
    "    # IMPORTAR LAS LIBRERIAS NECESARIAS\n",
    "    import pandas as pd\n",
    "    from datetime import datetime\n",
    "    import matplotlib.pyplot as plt\n",
    "\n",
    "    # CONVERTIR 'BIRTH_DATE' A FORMATO DE FECHA Y CALCULAR LA EDAD EN AÑOS\n",
    "    dataset['birth_date'] = pd.to_datetime(dataset['birth_date'], format='%b %d, %Y')\n",
    "    dataset['age'] = datetime.now().year - dataset['birth_date'].dt.year\n",
    "\n",
    "    # COMO ES UN 'OBJECT' HAGO LA CONVERSIÓN A 'FLOAT' PARA OBTENER LAS METRICAS:\n",
    "    dataset['amount'] = dataset['amount'].astype(float)\n",
    "\n",
    "    # AGRUPAR LOS TRANSACCIONES POR USUARIO Y CALCULAR EL PROMEDIO DE LA CANTIDAD\n",
    "    grouped_transactions = dataset.groupby('user_id')['amount'].mean().reset_index()\n",
    "\n",
    "    # UNIR CON LA EDAD DE CADA USUARIO\n",
    "    grouped_transactions = grouped_transactions.merge(dataset[['id', 'age']], left_on='user_id', right_on='id')\n",
    "    # AGRUPAR POR EDAD Y CALCULAR EL PROMEDIO DE LA CANTIDAD\n",
    "    grouped_by_age = grouped_transactions.groupby('age')['amount'].mean().reset_index()\n",
    "\n",
    "    # CALCULAR EL PROMEDIO GLOBAL DE AMOUNT\n",
    "    global_average = grouped_transactions['amount'].mean()\n",
    "\n",
    "    # CALCULAR CORRELACIÓN DE PEARSON ENTRE EDAD Y PROMEDIO DE COMPRA\n",
    "    correlation = grouped_by_age['age'].corr(grouped_by_age['amount'])\n",
    "\n",
    "    # CREAR EL GRÁFICO DE DISPERSIÓN\n",
    "    plt.figure(figsize=(8, 6))\n",
    "    plt.scatter(grouped_by_age['age'], grouped_by_age['amount'], marker='o', color='blue', alpha=0.7)\n",
    "\n",
    "    # AÑADIR LA LÍNEA DEL PROMEDIO GLOBAL\n",
    "    plt.axhline(y=global_average, color='red', linestyle='--', linewidth=1, label=f'Promedio Global: {global_average:.2f}€')\n",
    "\n",
    "    # CONFIGURAR TÍTULO Y ETIQUETAS DE EJES\n",
    "    plt.title('Promedio de Compra por Edad', fontsize=10)\n",
    "    plt.xlabel('Edad (años)', fontsize=8)\n",
    "    plt.ylabel('Promedio de Compra (€)', fontsize=10)\n",
    "\n",
    "    # AJUSTAR LOS TICKS DEL EJE X PARA INCLUIR TODAS LAS EDADES\n",
    "    plt.xticks(grouped_by_age['age'])\n",
    "\n",
    "    # AGREGAR LA CORRELACIÓN DE PEARSON DENTRO DEL GRÁFICO\n",
    "    plt.text(0.05, 0.95, f'Correlación de Pearson: {correlation:.2f}', transform=plt.gca().transAxes,\n",
    "            fontsize=10, verticalalignment='top', bbox=dict(boxstyle='round,pad=0.5', edgecolor='black', facecolor='white'))\n",
    "\n",
    "    # AÑADIR LEYENDA\n",
    "    plt.legend()\n",
    "\n",
    "    # MOSTRAR EL GRÁFICO\n",
    "    plt.grid(True, linestyle='--', linewidth=0.7)\n",
    "    plt.show()\n",
    "```\n",
    "---"
   ]
  },
  {
   "cell_type": "markdown",
   "metadata": {},
   "source": [
    "![812](files_sprint8/812.png)"
   ]
  },
  {
   "cell_type": "markdown",
   "metadata": {},
   "source": [
    "# Ejercicio 3: Una variable categórica"
   ]
  },
  {
   "cell_type": "markdown",
   "metadata": {},
   "source": [
    "Para asegurarme de que el código se ejecute correctamente y se muestren los números de transacciones en lugar de solo la frecuencia, es crucial seleccionar tanto `df_transactions['declined']` como `df_transactions['id']`. \n",
    "\n",
    "\n"
   ]
  },
  {
   "cell_type": "markdown",
   "metadata": {},
   "source": [
    "#### **Código**\n",
    "---\n",
    "```python\n",
    "    import pandas as pd\n",
    "\n",
    "    dataset = dataset.drop_duplicates()\n",
    "\n",
    "    # IMPORTAR LAS LIBRERIAS NECESARIAS\n",
    "    import matplotlib.pyplot as plt\n",
    "    import seaborn as sns\n",
    "\n",
    "    # Convertir la columna 'declined' a una variable categórica\n",
    "    dataset['declined'] = dataset['declined'].astype('category')\n",
    "\n",
    "    # Crear el gráfico de barras\n",
    "    plt.figure(figsize=(10, 8))\n",
    "    sns.countplot(x='declined', data=dataset, palette='viridis')\n",
    "    plt.title('Número de Transacciones Aceptadas y Rechazadas', fontsize=14)\n",
    "    plt.xlabel('Estado de Transacción', fontsize=12)\n",
    "    plt.ylabel('Número de Transacciones', fontsize=12)\n",
    "    plt.xticks(ticks=[0, 1], labels=['Aceptada', 'Rechazada'], fontsize=10)\n",
    "    plt.yticks(fontsize=10)\n",
    "    plt.grid(True, linestyle='--', linewidth=0.7)\n",
    "    plt.show()\n",
    "```\n",
    "---"
   ]
  },
  {
   "cell_type": "markdown",
   "metadata": {},
   "source": [
    "![813](files_sprint8/813.png)."
   ]
  },
  {
   "cell_type": "markdown",
   "metadata": {},
   "source": [
    "# Ejercicio 4: Una variable categórica y una numérica."
   ]
  },
  {
   "cell_type": "markdown",
   "metadata": {},
   "source": [
    "#### **Código**\n",
    "----------------------------------------------------------------\n",
    "```python\n",
    "    # El código siguiente, que crea un dataframe y quita las filas duplicadas, siempre se ejecuta y actúa como un preámbulo del script: \n",
    "    import pandas as pd\n",
    "\n",
    "    dataset = dataset.drop_duplicates()\n",
    "\n",
    "    # IMPORTAR LAS LIBRERIAS NECESARIAS\n",
    "    import matplotlib.pyplot as plt\n",
    "    import seaborn as sns\n",
    "\n",
    "    plt.figure(figsize=(10, 8))\n",
    "\n",
    "    # Gráfico de caja de la variable numérica 'amount' por la categórica 'declined'\n",
    "\n",
    "    sns.boxplot(x='declined', y='amount', data=dataset)\n",
    "    plt.title('Distribución del Monto por Estado de Transacción')\n",
    "    plt.xlabel('Estado de Transacción')\n",
    "    plt.ylabel('Monto')\n",
    "    plt.xticks(ticks=[0, 1], labels=['Aceptada', 'Rechazada'])\n",
    "\n",
    "    plt.tight_layout()\n",
    "    plt.show()\n",
    "```\n",
    "---"
   ]
  },
  {
   "cell_type": "markdown",
   "metadata": {},
   "source": [
    "![814](files_sprint8/814.png)."
   ]
  },
  {
   "cell_type": "markdown",
   "metadata": {},
   "source": [
    "# Ejercicio 5: Dos variables categóricas."
   ]
  },
  {
   "cell_type": "markdown",
   "metadata": {},
   "source": [
    "#### **Código**\n",
    "----------------------------------------------------------------\n",
    "```python\n",
    "\n",
    "    dataset = dataset.drop_duplicates()\n",
    "\n",
    "    import pandas as pd\n",
    "    import seaborn as sns\n",
    "    import matplotlib.pyplot as plt\n",
    "\n",
    "    # Convertir 'declined' y 'country' en variables categóricas\n",
    "    dataset['declined'] = dataset['declined'].astype('category')\n",
    "    dataset['country'] = dataset['country'].astype('category')\n",
    "\n",
    "    # Graficar los datos\n",
    "    plt.figure(figsize=(10, 6))\n",
    "\n",
    "    # Gráfico de conteo para las variables categóricas 'declined' y 'country'\n",
    "    sns.countplot(x='country', hue='declined', data=dataset)\n",
    "    plt.title('Frecuencia de Transacciones')\n",
    "    plt.xlabel('País del usuario')\n",
    "    plt.ylabel('Frecuencia')\n",
    "    plt.legend(title='Declined', labels=['Aceptada', 'Rechazada'])\n",
    "\n",
    "    plt.tight_layout()\n",
    "    plt.show()\n",
    "```\n",
    "----------------------------------------------------------------"
   ]
  },
  {
   "cell_type": "markdown",
   "metadata": {},
   "source": [
    "![815](files_sprint8/815.png)."
   ]
  },
  {
   "cell_type": "markdown",
   "metadata": {},
   "source": [
    "# Ejercicio 6: Tres variables."
   ]
  },
  {
   "cell_type": "markdown",
   "metadata": {},
   "source": [
    "#### **Código**\n",
    "----------------------------------------------------------------\n",
    "```python\n",
    "    import pandas as pd\n",
    "\n",
    "    dataset = dataset.drop_duplicates()\n",
    "\n",
    "    # IMPORTAR LAS LIBRERIAS NECESARIAS\n",
    "    import matplotlib.pyplot as plt\n",
    "    import seaborn as sns\n",
    "\n",
    "    # Convertir 'declined' y 'country' en variables categóricas\n",
    "    dataset['declined'] = dataset['declined'].astype('category')\n",
    "    dataset['country'] = dataset['country'].astype('category')\n",
    "\n",
    "    # Graficar los datos\n",
    "    plt.figure(figsize=(12, 8))\n",
    "\n",
    "    # Gráfico de barras agrupadas con 'amount' por 'country' y 'declined'\n",
    "    plt.figure(figsize=(12, 8))\n",
    "    sns.barplot(x='country', y='amount', hue='declined', data=dataset, estimator=sum)\n",
    "    plt.title('Grafico de estado de transacciones por pais de origen de compañia y monto...')\n",
    "    plt.xlabel('País de la compañia')\n",
    "    plt.ylabel('Monto Total de las transacciones')\n",
    "\n",
    "\n",
    "    plt.xticks(rotation=45)\n",
    "    plt.tight_layout()\n",
    "    plt.show()\n",
    "```\n",
    "----------------------------------------------------------------"
   ]
  },
  {
   "cell_type": "markdown",
   "metadata": {},
   "source": [
    "![816](files_sprint8/816.png)"
   ]
  },
  {
   "cell_type": "markdown",
   "metadata": {},
   "source": [
    "# Ejercicio 7: Graficar un pairplot"
   ]
  },
  {
   "cell_type": "markdown",
   "metadata": {},
   "source": [
    "#### **Código**\n",
    "----------------------------------------------------------------\n",
    "```python\n",
    "    dataset = dataset.drop_duplicates()\n",
    "\n",
    "    # Pegue o escriba aquí el código de script:\n",
    "\n",
    "    import pandas as pd\n",
    "    import seaborn as sns\n",
    "    import matplotlib.pyplot as plt\n",
    "    from datetime import datetime\n",
    "\n",
    "    # Calcular la edad a partir de la fecha de nacimiento\n",
    "    dataset['birth_date'] = pd.to_datetime(dataset['birth_date'], format='%b %d, %Y')  \n",
    "    dataset['age'] = datetime.now().year - dataset['birth_date'].dt.year  \n",
    "\n",
    "    # Crear un grupo de edades cada 5 años\n",
    "    dataset['age_group'] = (dataset['age'] // 5) * 5\n",
    "\n",
    "    # Definir variables categóricas y numéricas\n",
    "    categorical_columns = ['country','declined']  \n",
    "    numeric_columns = ['amount', 'age', 'age_group']  \n",
    "\n",
    "    # Filtrar el DataFrame para incluir solo las columnas relevantes y eliminar filas con NaN\n",
    "    plot_data = dataset[categorical_columns + numeric_columns].dropna()\n",
    "\n",
    "    # Imprimir las columnas seleccionadas\n",
    "    print(plot_data.columns)\n",
    "\n",
    "    # Crear el pairplot diferenciando por la columna 'declined' y utilizando el grupo de edad\n",
    "    sns.pairplot(plot_data, hue='declined', vars=['amount', 'age_group'])\n",
    "\n",
    "    # Personalizar el gráfico para que muestre la edad cada 5 años en el eje x\n",
    "    plt.xticks(range(0, int(plot_data['age'].max()) + 1, 5))\n",
    "\n",
    "    plt.show()\n",
    "```\n",
    "----------------------------------------------------------------"
   ]
  },
  {
   "cell_type": "markdown",
   "metadata": {},
   "source": [
    "![817](files_sprint8/817.png)"
   ]
  },
  {
   "cell_type": "markdown",
   "metadata": {},
   "source": [
    "# **Dashboard Final:**\n",
    "\n",
    "![804](files_sprint8/804.png)"
   ]
  }
 ],
 "metadata": {
  "kernelspec": {
   "display_name": "Python 3",
   "language": "python",
   "name": "python3"
  },
  "language_info": {
   "codemirror_mode": {
    "name": "ipython",
    "version": 3
   },
   "file_extension": ".py",
   "mimetype": "text/x-python",
   "name": "python",
   "nbconvert_exporter": "python",
   "pygments_lexer": "ipython3",
   "version": "3.12.3"
  }
 },
 "nbformat": 4,
 "nbformat_minor": 2
}
