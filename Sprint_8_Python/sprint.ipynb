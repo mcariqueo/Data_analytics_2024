{
 "cells": [
  {
   "cell_type": "markdown",
   "metadata": {},
   "source": [
    "# Conexión MySQL y Python para obtener la información\n",
    "Realitza la connexió en Python amb el MySQL Workbench per a carregar tota la informació que tens en les taules."
   ]
  },
  {
   "cell_type": "markdown",
   "metadata": {},
   "source": [
    "### IMPORTAR LIBRERIAS    \n",
    "\n",
    "Para conectar la base de datos, necesitarè instalar el conector de mysql en python. Esto lo hago mediante el comando 'pip install mysql.connector' desde la consola de powershell.\n",
    "Asi mis mismo iré instalando las librerias para visualización a lo largo del sprint."
   ]
  },
  {
   "cell_type": "code",
   "execution_count": 1,
   "metadata": {},
   "outputs": [],
   "source": [
    "# IMPORTAR LAS LIBRERIAS NECESARIAS\n",
    "import mysql.connector\n",
    "import pandas as pd"
   ]
  },
  {
   "cell_type": "markdown",
   "metadata": {},
   "source": [
    "### CREAR CONEXIÓN\n",
    "\n",
    "- Para conectar python con MySQL debo establercer la conexión a partir del conector instalado y entregando las credeciales de acceso a la base de datos.\n",
    "- La base de datos que utilizaré se llama 'trades4' y eso me dará acceso a cada una de las dataframes."
   ]
  },
  {
   "cell_type": "code",
   "execution_count": 2,
   "metadata": {},
   "outputs": [],
   "source": [
    "# CREO UNA CONEXION PARA LA BASE DE DATOS 'TRADES4'\n",
    "cnx = mysql.connector.connect(\n",
    "    user='root',\n",
    "    password='250301',\n",
    "    host='localhost',\n",
    "    database='trades4')\n",
    "cursor = cnx.cursor()"
   ]
  },
  {
   "cell_type": "markdown",
   "metadata": {},
   "source": [
    "## FUNCIONES PARA OBTENER TABLAS\n",
    "\n",
    "- El siguiente paso es obtener las tablas para obtener los dataframes. \n",
    "- a cada tabla la llamaré 'df_{Nombre_de_tabla}"
   ]
  },
  {
   "cell_type": "code",
   "execution_count": 3,
   "metadata": {},
   "outputs": [],
   "source": [
    "# Función para obtener los nombres de las tablas\n",
    "def get_table_names(cursor):\n",
    "    cursor.execute(\"SHOW TABLES\")\n",
    "    tables = cursor.fetchall()\n",
    "    table_names = [table_name for (table_name,) in tables]\n",
    "    return table_names\n",
    "\n",
    "# Función para obtener y almacenar cada tabla como un DataFrame de Pandas\n",
    "def get_tables_as_dataframes(cursor, table_names):\n",
    "    dfs = {} # Para almacenar todos los dataframes\n",
    "    for table_name in table_names:\n",
    "        cursor.execute(f\"SELECT * FROM {table_name}\")\n",
    "        rows = cursor.fetchall()\n",
    "        df = pd.DataFrame(rows, columns=[desc[0] for desc in cursor.description])\n",
    "        dfs[table_name] = df\n",
    "    return dfs\n",
    "\n",
    "# Función para mostrar las columnas de cada tabla\n",
    "def show_columns_of_tables(table_names, cursor):\n",
    "    for table_name in table_names:\n",
    "        cursor.execute(f\"SHOW COLUMNS FROM {table_name}\")\n",
    "        columns = cursor.fetchall()\n",
    "        column_names = [column[0] for column in columns]\n",
    "\n",
    "tables = get_table_names(cursor)\n",
    "\n",
    "show_columns_of_tables(tables, cursor)\n",
    "\n",
    "dfs = get_tables_as_dataframes(cursor, tables)\n",
    "\n",
    "# CREAR VARIABLES GLOBALES PARA CADA DATAFRAME CON EL NOMBRE DF_TABLE_NAME\n",
    "for table_name, df in dfs.items():\n",
    "    globals()[f\"df_{table_name}\"] = df\n",
    "\n",
    "cursor.close() \n",
    "cnx.close()"
   ]
  },
  {
   "cell_type": "markdown",
   "metadata": {},
   "source": [
    "# Exercici 1: Mostrat una variable numèrica"
   ]
  },
  {
   "cell_type": "markdown",
   "metadata": {},
   "source": [
    "#### **Situación de trabajo** \n",
    "La empresa desea verificar y describir las edades de los usuarios, estableciendo variables numéricas para analizarlas al máximo. Esto es necesario para desarrollar una estrategia que permita mejorar los productos y plataformas dirigidos a esta demografía."
   ]
  },
  {
   "cell_type": "markdown",
   "metadata": {},
   "source": [
    "#### **Desarrollo:** \n",
    "Para conseguir este objetivo, seguiremos estos pasos:\n",
    "1. Desde la tabla df_users obtendré la información.\n",
    "2. Convertir 'birth_date' a formato de fecha y calcular la edad en años.\n",
    "3. Obtener un resumen estadístico y mostrarlo como una tabla Markdown.\n",
    "4. Configurar el estilo de los gráficos y crear un boxplot de las edades."
   ]
  },
  {
   "cell_type": "code",
   "execution_count": 4,
   "metadata": {},
   "outputs": [
    {
     "data": {
      "text/markdown": [
       "|      |   Age Statistics |\n",
       "|:-----|-----------------:|\n",
       "| mean |         34.64    |\n",
       "| std  |          6.00771 |\n",
       "| min  |         23       |\n",
       "| max  |         45       |"
      ],
      "text/plain": [
       "<IPython.core.display.Markdown object>"
      ]
     },
     "metadata": {},
     "output_type": "display_data"
    },
    {
     "data": {
      "image/png": "[encoded data removed]",
      "text/plain": [
       "<Figure size 600x300 with 1 Axes>"
      ]
     },
     "metadata": {},
     "output_type": "display_data"
    }
   ],
   "source": [
    "# IMPORTAR TODAS LAS BIBLIOTECAS QUE UTILIZAREMOS\n",
    "import pandas as pd\n",
    "from datetime import datetime\n",
    "from tabulate import tabulate\n",
    "from IPython.display import display, Markdown\n",
    "import matplotlib.pyplot as plt\n",
    "import seaborn as sns\n",
    "\n",
    "# FUNCIÓN PARA CONVERTIR 'BIRTH_DATE' A FORMATO DE FECHA Y CALCULAR LA EDAD EN AÑOS\n",
    "df['birth_date'] = pd.to_datetime(df['birth_date'], format='%b %d, %Y')\n",
    "df['age'] = datetime.now().year - df['birth_date'].dt.year\n",
    "\n",
    "# FUNCIÓN PARA OBTENER Y MOSTRAR UN RESUMEN ESTADÍSTICO\n",
    "def display_summary_statistics(df, column):\n",
    "    summary_statistics = df[column].describe().loc[['mean', 'std', 'min', 'max']]\n",
    "    summary_table = tabulate(summary_statistics.to_frame(), headers=[f'{column.capitalize()} Statistics'], tablefmt='pipe')\n",
    "    display(Markdown(summary_table))\n",
    "\n",
    "# FUNCIÓN PARA CREAR UN BOXPLOT\n",
    "def plot_boxplot(df, column):\n",
    "    sns.set(style=\"ticks\")\n",
    "    plt.figure(figsize=(6, 3))\n",
    "    ax = sns.boxplot(y=df[column], color='skyblue', width=0.5, fliersize=5, linewidth=2.5, \n",
    "                     showmeans=True, meanline=True, meanprops={\"color\": \"red\", \"linewidth\": 2, \"linestyle\": \"--\"})\n",
    "    ax.set_title(f'Boxplot de {column}', fontsize=12, fontweight='bold', pad=10)\n",
    "    ax.set_ylabel(f'{column.capitalize()} (años)', fontsize=12, labelpad=10)\n",
    "    ax.grid(True, linestyle='--', linewidth=0.7)\n",
    "    ax.yaxis.set_tick_params(labelsize=10)\n",
    "    sns.despine(top=True, right=True)\n",
    "\n",
    "    # ANOTAR VALORES CLAVE\n",
    "    quartiles = df[column].quantile([0.25, 0.5, 0.75])\n",
    "    for q, value in quartiles.items():\n",
    "        ax.text(0.3, value, f'{value:.1f}', horizontalalignment='center', size='medium', color='black', weight='semibold')\n",
    "    \n",
    "    plt.show()\n",
    "\n",
    "# LLAMAR A LAS FUNCIONES DEFINIDAS\n",
    "\n",
    "display_summary_statistics(df_users, 'age')\n",
    "\n",
    "plot_boxplot(df_users, 'age')"
   ]
  },
  {
   "cell_type": "markdown",
   "metadata": {},
   "source": [
    "#### **Analisis:** \n",
    "La distribución de las edades de los usuarios presenta una edad promedio de 34 años, con un rango que va desde los 23 hasta los 45 años. Los percentiles 25 y 75 se encuentran en 30 y 40 años, respectivamente, y la mediana es de 35 años. No se observan outliers significativos en la distribución de las edades.\n",
    "\n",
    "#### **Recomendaciones:**\n",
    "\n",
    "- Segmentación de Productos:    \n",
    "  Dado que la mayoría de los usuarios se encuentran entre los 30 y 40 años, se recomienda desarrollar productos y servicios específicamente adaptados a las necesidades y preferencias de este grupo de edad.        \n",
    "- Estrategia de Marketing:  \n",
    "  Implementar campañas de marketing que resalten características y beneficios que atraigan a los usuarios en el rango de 23 a 45 años, utilizando canales y mensajes que resuenen con este grupo demográfico.  \n",
    "- Plataformas y Experiencia del Usuario:    \n",
    "  Mejorar las plataformas digitales para ser intuitivas y funcionales para usuarios de 30 a 40 años, asegurando una experiencia de usuario óptima y adaptada a sus habilidades y expectativas tecnológicas.  \n",
    "- Monitoreo Continuo:   \n",
    "  Continuar monitoreando la distribución de las edades para identificar cualquier cambio demográfico significativo que pueda requerir ajustes en la estrategia. \n",
    "\n"
   ]
  },
  {
   "cell_type": "markdown",
   "metadata": {},
   "source": [
    "# Exercici 2: Dues variables numèriques."
   ]
  },
  {
   "cell_type": "markdown",
   "metadata": {},
   "source": [
    "#### **Situación:**\n",
    "\n",
    "La empresa ha pedido complementar la informacion anterior solicitado un análisis para determinar la relación entre la edad de los usuarios y su capacidad de compra, representada por la cantidad de dinero que gastan. \n",
    "\n",
    "Para llevar a cabo este análisis, es necesario seleccionar dos variables numéricas: la edad de los usuarios y el monto de las compras, que se extraerá de la tabla transactions. El objetivo es identificar patrones y tendencias que puedan informar futuras estrategias de marketing y ventas."
   ]
  },
  {
   "cell_type": "markdown",
   "metadata": {},
   "source": [
    "#### **Desarrollo**\n",
    "Para analizar esta relación, se deben realizar los siguientes pasos:\n",
    "\n",
    "1. Para esta información, ademas de la tabla de df_users, utilizaré la tabla df_transactions.\n",
    "2. Realizaré el mismo calculo de la edad de los usuarios a partir de sus fechas de nacimiento.\n",
    "3. Uniré las tablas df_users y df_transactions en función de los identificadores de usuario (user_id).\n",
    "4. Obtener un resumen estadístico de las variables seleccionadas.\n",
    "5. Visualizar la relación entre la edad y la capacidad de compra mediante un scatter plot (diagrama de dispersión).\n",
    "6. Para asegurame que los datos son adecuados, realizaré una funcion para obtener estadigrafos.\n",
    "   \n",
    "Este análisis permitirá a la empresa comprender mejor el comportamiento de compra de sus usuarios en función de su edad y ajustar sus estrategias de manera más efectiva."
   ]
  },
  {
   "cell_type": "code",
   "execution_count": 5,
   "metadata": {},
   "outputs": [
    {
     "name": "stdout",
     "output_type": "stream",
     "text": [
      "Amount Estadigrafos se muestrar ok.\n",
      "Age Estadigrafos se muestrar ok.\n"
     ]
    },
    {
     "data": {
      "text/plain": [
       "True"
      ]
     },
     "execution_count": 5,
     "metadata": {},
     "output_type": "execute_result"
    }
   ],
   "source": [
    "from tabulate import tabulate\n",
    "from IPython.display import display, Markdown\n",
    "from scipy.stats import pearsonr\n",
    "\n",
    "# CONVERTIR 'BIRTH_DATE' A FORMATO DE FECHA Y CALCULAR LA EDAD EN AÑOS\n",
    "df['birth_date'] = pd.to_datetime(df['birth_date'], format='%b %d, %Y')\n",
    "df['age'] = datetime.now().year - df['birth_date'].dt.year\n",
    "\n",
    "# COMO ES UN 'OBJECT' HAGO LA CONVERSIÓN A 'FLOAT' PARA OBTENER LAS METRICAS:\n",
    "df_transactions['amount'] = df_transactions['amount'].astype(float)\n",
    "\n",
    "# UTILIZO UNA FUNCÓN PARA QUE INDIQUE SI LOS VALORES PERMITEN TENER METRICAS: \n",
    "\n",
    "def display_summary_statistics(df, column):\n",
    "    try:\n",
    "        summary_statistics = df[column].describe().loc[['mean', 'std', 'min', 'max']]\n",
    "        print(f\"{column.capitalize()} Estadigrafos se muestrar ok.\")\n",
    "        return True\n",
    "    except KeyError:\n",
    "        print(f\"Error: Column '{column}' does not exist in the DataFrame.\")\n",
    "        return False\n",
    "\n",
    "# LLAMO A LA FUNCION PARA OBTENER LAS METRICAS DE AMBAS COLUMNAS\n",
    "display_summary_statistics(df_transactions, 'amount')\n",
    "display_summary_statistics(df_users, 'age')\n"
   ]
  },
  {
   "cell_type": "code",
   "execution_count": 6,
   "metadata": {},
   "outputs": [
    {
     "data": {
      "text/markdown": [
       "**Correlación de Pearson entre Edad y Promedio de Compra: valor obtenido:** -0.05"
      ],
      "text/plain": [
       "<IPython.core.display.Markdown object>"
      ]
     },
     "metadata": {},
     "output_type": "display_data"
    },
    {
     "data": {
      "application/vnd.plotly.v1+json": {
       "config": {
        "plotlyServerURL": "https://plot.ly"
       },
       "data": [
        {
         "hovertemplate": "age=%{x}<br>amount=%{y}<extra></extra>",
         "legendgroup": "",
         "marker": {
          "color": "#636efa",
          "symbol": "circle"
         },
         "mode": "markers",
         "name": "",
         "orientation": "v",
         "showlegend": false,
         "type": "scatter",
         "x": [
          23,
          24,
          25,
          26,
          27,
          28,
          29,
          30,
          31,
          32,
          33,
          34,
          35,
          36,
          37,
          38,
          39,
          40,
          41,
          42,
          43,
          44,
          45
         ],
         "xaxis": "x",
         "y": [
          214.20083333333332,
          221.82481481481483,
          291.0116666666667,
          222.6135294117647,
          276.87333333333333,
          245.97136363636363,
          328.805,
          315.2917647058824,
          282.642,
          332.556,
          247.72791666666666,
          305.61800000000005,
          216.6677777777778,
          282.68625000000003,
          254.32769230769233,
          220.06333333333333,
          290.0625,
          273.28222222222223,
          276.5842105263158,
          247.29561403508774,
          261.2066666666667,
          241.9625,
          236.70714285714286
         ],
         "yaxis": "y"
        }
       ],
       "layout": {
        "legend": {
         "tracegroupgap": 0
        },
        "margin": {
         "t": 60
        },
        "template": {
         "data": {
          "bar": [
           {
            "error_x": {
             "color": "#2a3f5f"
            },
            "error_y": {
             "color": "#2a3f5f"
            },
            "marker": {
             "line": {
              "color": "#E5ECF6",
              "width": 0.5
             },
             "pattern": {
              "fillmode": "overlay",
              "size": 10,
              "solidity": 0.2
             }
            },
            "type": "bar"
           }
          ],
          "barpolar": [
           {
            "marker": {
             "line": {
              "color": "#E5ECF6",
              "width": 0.5
             },
             "pattern": {
              "fillmode": "overlay",
              "size": 10,
              "solidity": 0.2
             }
            },
            "type": "barpolar"
           }
          ],
          "carpet": [
           {
            "aaxis": {
             "endlinecolor": "#2a3f5f",
             "gridcolor": "white",
             "linecolor": "white",
             "minorgridcolor": "white",
             "startlinecolor": "#2a3f5f"
            },
            "baxis": {
             "endlinecolor": "#2a3f5f",
             "gridcolor": "white",
             "linecolor": "white",
             "minorgridcolor": "white",
             "startlinecolor": "#2a3f5f"
            },
            "type": "carpet"
           }
          ],
          "choropleth": [
           {
            "colorbar": {
             "outlinewidth": 0,
             "ticks": ""
            },
            "type": "choropleth"
           }
          ],
          "contour": [
           {
            "colorbar": {
             "outlinewidth": 0,
             "ticks": ""
            },
            "colorscale": [
             [
              0,
              "#0d0887"
             ],
             [
              0.1111111111111111,
              "#46039f"
             ],
             [
              0.2222222222222222,
              "#7201a8"
             ],
             [
              0.3333333333333333,
              "#9c179e"
             ],
             [
              0.4444444444444444,
              "#bd3786"
             ],
             [
              0.5555555555555556,
              "#d8576b"
             ],
             [
              0.6666666666666666,
              "#ed7953"
             ],
             [
              0.7777777777777778,
              "#fb9f3a"
             ],
             [
              0.8888888888888888,
              "#fdca26"
             ],
             [
              1,
              "#f0f921"
             ]
            ],
            "type": "contour"
           }
          ],
          "contourcarpet": [
           {
            "colorbar": {
             "outlinewidth": 0,
             "ticks": ""
            },
            "type": "contourcarpet"
           }
          ],
          "heatmap": [
           {
            "colorbar": {
             "outlinewidth": 0,
             "ticks": ""
            },
            "colorscale": [
             [
              0,
              "#0d0887"
             ],
             [
              0.1111111111111111,
              "#46039f"
             ],
             [
              0.2222222222222222,
              "#7201a8"
             ],
             [
              0.3333333333333333,
              "#9c179e"
             ],
             [
              0.4444444444444444,
              "#bd3786"
             ],
             [
              0.5555555555555556,
              "#d8576b"
             ],
             [
              0.6666666666666666,
              "#ed7953"
             ],
             [
              0.7777777777777778,
              "#fb9f3a"
             ],
             [
              0.8888888888888888,
              "#fdca26"
             ],
             [
              1,
              "#f0f921"
             ]
            ],
            "type": "heatmap"
           }
          ],
          "heatmapgl": [
           {
            "colorbar": {
             "outlinewidth": 0,
             "ticks": ""
            },
            "colorscale": [
             [
              0,
              "#0d0887"
             ],
             [
              0.1111111111111111,
              "#46039f"
             ],
             [
              0.2222222222222222,
              "#7201a8"
             ],
             [
              0.3333333333333333,
              "#9c179e"
             ],
             [
              0.4444444444444444,
              "#bd3786"
             ],
             [
              0.5555555555555556,
              "#d8576b"
             ],
             [
              0.6666666666666666,
              "#ed7953"
             ],
             [
              0.7777777777777778,
              "#fb9f3a"
             ],
             [
              0.8888888888888888,
              "#fdca26"
             ],
             [
              1,
              "#f0f921"
             ]
            ],
            "type": "heatmapgl"
           }
          ],
          "histogram": [
           {
            "marker": {
             "pattern": {
              "fillmode": "overlay",
              "size": 10,
              "solidity": 0.2
             }
            },
            "type": "histogram"
           }
          ],
          "histogram2d": [
           {
            "colorbar": {
             "outlinewidth": 0,
             "ticks": ""
            },
            "colorscale": [
             [
              0,
              "#0d0887"
             ],
             [
              0.1111111111111111,
              "#46039f"
             ],
             [
              0.2222222222222222,
              "#7201a8"
             ],
             [
              0.3333333333333333,
              "#9c179e"
             ],
             [
              0.4444444444444444,
              "#bd3786"
             ],
             [
              0.5555555555555556,
              "#d8576b"
             ],
             [
              0.6666666666666666,
              "#ed7953"
             ],
             [
              0.7777777777777778,
              "#fb9f3a"
             ],
             [
              0.8888888888888888,
              "#fdca26"
             ],
             [
              1,
              "#f0f921"
             ]
            ],
            "type": "histogram2d"
           }
          ],
          "histogram2dcontour": [
           {
            "colorbar": {
             "outlinewidth": 0,
             "ticks": ""
            },
            "colorscale": [
             [
              0,
              "#0d0887"
             ],
             [
              0.1111111111111111,
              "#46039f"
             ],
             [
              0.2222222222222222,
              "#7201a8"
             ],
             [
              0.3333333333333333,
              "#9c179e"
             ],
             [
              0.4444444444444444,
              "#bd3786"
             ],
             [
              0.5555555555555556,
              "#d8576b"
             ],
             [
              0.6666666666666666,
              "#ed7953"
             ],
             [
              0.7777777777777778,
              "#fb9f3a"
             ],
             [
              0.8888888888888888,
              "#fdca26"
             ],
             [
              1,
              "#f0f921"
             ]
            ],
            "type": "histogram2dcontour"
           }
          ],
          "mesh3d": [
           {
            "colorbar": {
             "outlinewidth": 0,
             "ticks": ""
            },
            "type": "mesh3d"
           }
          ],
          "parcoords": [
           {
            "line": {
             "colorbar": {
              "outlinewidth": 0,
              "ticks": ""
             }
            },
            "type": "parcoords"
           }
          ],
          "pie": [
           {
            "automargin": true,
            "type": "pie"
           }
          ],
          "scatter": [
           {
            "fillpattern": {
             "fillmode": "overlay",
             "size": 10,
             "solidity": 0.2
            },
            "type": "scatter"
           }
          ],
          "scatter3d": [
           {
            "line": {
             "colorbar": {
              "outlinewidth": 0,
              "ticks": ""
             }
            },
            "marker": {
             "colorbar": {
              "outlinewidth": 0,
              "ticks": ""
             }
            },
            "type": "scatter3d"
           }
          ],
          "scattercarpet": [
           {
            "marker": {
             "colorbar": {
              "outlinewidth": 0,
              "ticks": ""
             }
            },
            "type": "scattercarpet"
           }
          ],
          "scattergeo": [
           {
            "marker": {
             "colorbar": {
              "outlinewidth": 0,
              "ticks": ""
             }
            },
            "type": "scattergeo"
           }
          ],
          "scattergl": [
           {
            "marker": {
             "colorbar": {
              "outlinewidth": 0,
              "ticks": ""
             }
            },
            "type": "scattergl"
           }
          ],
          "scattermapbox": [
           {
            "marker": {
             "colorbar": {
              "outlinewidth": 0,
              "ticks": ""
             }
            },
            "type": "scattermapbox"
           }
          ],
          "scatterpolar": [
           {
            "marker": {
             "colorbar": {
              "outlinewidth": 0,
              "ticks": ""
             }
            },
            "type": "scatterpolar"
           }
          ],
          "scatterpolargl": [
           {
            "marker": {
             "colorbar": {
              "outlinewidth": 0,
              "ticks": ""
             }
            },
            "type": "scatterpolargl"
           }
          ],
          "scatterternary": [
           {
            "marker": {
             "colorbar": {
              "outlinewidth": 0,
              "ticks": ""
             }
            },
            "type": "scatterternary"
           }
          ],
          "surface": [
           {
            "colorbar": {
             "outlinewidth": 0,
             "ticks": ""
            },
            "colorscale": [
             [
              0,
              "#0d0887"
             ],
             [
              0.1111111111111111,
              "#46039f"
             ],
             [
              0.2222222222222222,
              "#7201a8"
             ],
             [
              0.3333333333333333,
              "#9c179e"
             ],
             [
              0.4444444444444444,
              "#bd3786"
             ],
             [
              0.5555555555555556,
              "#d8576b"
             ],
             [
              0.6666666666666666,
              "#ed7953"
             ],
             [
              0.7777777777777778,
              "#fb9f3a"
             ],
             [
              0.8888888888888888,
              "#fdca26"
             ],
             [
              1,
              "#f0f921"
             ]
            ],
            "type": "surface"
           }
          ],
          "table": [
           {
            "cells": {
             "fill": {
              "color": "#EBF0F8"
             },
             "line": {
              "color": "white"
             }
            },
            "header": {
             "fill": {
              "color": "#C8D4E3"
             },
             "line": {
              "color": "white"
             }
            },
            "type": "table"
           }
          ]
         },
         "layout": {
          "annotationdefaults": {
           "arrowcolor": "#2a3f5f",
           "arrowhead": 0,
           "arrowwidth": 1
          },
          "autotypenumbers": "strict",
          "coloraxis": {
           "colorbar": {
            "outlinewidth": 0,
            "ticks": ""
           }
          },
          "colorscale": {
           "diverging": [
            [
             0,
             "#8e0152"
            ],
            [
             0.1,
             "#c51b7d"
            ],
            [
             0.2,
             "#de77ae"
            ],
            [
             0.3,
             "#f1b6da"
            ],
            [
             0.4,
             "#fde0ef"
            ],
            [
             0.5,
             "#f7f7f7"
            ],
            [
             0.6,
             "#e6f5d0"
            ],
            [
             0.7,
             "#b8e186"
            ],
            [
             0.8,
             "#7fbc41"
            ],
            [
             0.9,
             "#4d9221"
            ],
            [
             1,
             "#276419"
            ]
           ],
           "sequential": [
            [
             0,
             "#0d0887"
            ],
            [
             0.1111111111111111,
             "#46039f"
            ],
            [
             0.2222222222222222,
             "#7201a8"
            ],
            [
             0.3333333333333333,
             "#9c179e"
            ],
            [
             0.4444444444444444,
             "#bd3786"
            ],
            [
             0.5555555555555556,
             "#d8576b"
            ],
            [
             0.6666666666666666,
             "#ed7953"
            ],
            [
             0.7777777777777778,
             "#fb9f3a"
            ],
            [
             0.8888888888888888,
             "#fdca26"
            ],
            [
             1,
             "#f0f921"
            ]
           ],
           "sequentialminus": [
            [
             0,
             "#0d0887"
            ],
            [
             0.1111111111111111,
             "#46039f"
            ],
            [
             0.2222222222222222,
             "#7201a8"
            ],
            [
             0.3333333333333333,
             "#9c179e"
            ],
            [
             0.4444444444444444,
             "#bd3786"
            ],
            [
             0.5555555555555556,
             "#d8576b"
            ],
            [
             0.6666666666666666,
             "#ed7953"
            ],
            [
             0.7777777777777778,
             "#fb9f3a"
            ],
            [
             0.8888888888888888,
             "#fdca26"
            ],
            [
             1,
             "#f0f921"
            ]
           ]
          },
          "colorway": [
           "#636efa",
           "#EF553B",
           "#00cc96",
           "#ab63fa",
           "#FFA15A",
           "#19d3f3",
           "#FF6692",
           "#B6E880",
           "#FF97FF",
           "#FECB52"
          ],
          "font": {
           "color": "#2a3f5f"
          },
          "geo": {
           "bgcolor": "white",
           "lakecolor": "white",
           "landcolor": "#E5ECF6",
           "showlakes": true,
           "showland": true,
           "subunitcolor": "white"
          },
          "hoverlabel": {
           "align": "left"
          },
          "hovermode": "closest",
          "mapbox": {
           "style": "light"
          },
          "paper_bgcolor": "white",
          "plot_bgcolor": "#E5ECF6",
          "polar": {
           "angularaxis": {
            "gridcolor": "white",
            "linecolor": "white",
            "ticks": ""
           },
           "bgcolor": "#E5ECF6",
           "radialaxis": {
            "gridcolor": "white",
            "linecolor": "white",
            "ticks": ""
           }
          },
          "scene": {
           "xaxis": {
            "backgroundcolor": "#E5ECF6",
            "gridcolor": "white",
            "gridwidth": 2,
            "linecolor": "white",
            "showbackground": true,
            "ticks": "",
            "zerolinecolor": "white"
           },
           "yaxis": {
            "backgroundcolor": "#E5ECF6",
            "gridcolor": "white",
            "gridwidth": 2,
            "linecolor": "white",
            "showbackground": true,
            "ticks": "",
            "zerolinecolor": "white"
           },
           "zaxis": {
            "backgroundcolor": "#E5ECF6",
            "gridcolor": "white",
            "gridwidth": 2,
            "linecolor": "white",
            "showbackground": true,
            "ticks": "",
            "zerolinecolor": "white"
           }
          },
          "shapedefaults": {
           "line": {
            "color": "#2a3f5f"
           }
          },
          "ternary": {
           "aaxis": {
            "gridcolor": "white",
            "linecolor": "white",
            "ticks": ""
           },
           "baxis": {
            "gridcolor": "white",
            "linecolor": "white",
            "ticks": ""
           },
           "bgcolor": "#E5ECF6",
           "caxis": {
            "gridcolor": "white",
            "linecolor": "white",
            "ticks": ""
           }
          },
          "title": {
           "x": 0.05
          },
          "xaxis": {
           "automargin": true,
           "gridcolor": "white",
           "linecolor": "white",
           "ticks": "",
           "title": {
            "standoff": 15
           },
           "zerolinecolor": "white",
           "zerolinewidth": 2
          },
          "yaxis": {
           "automargin": true,
           "gridcolor": "white",
           "linecolor": "white",
           "ticks": "",
           "title": {
            "standoff": 15
           },
           "zerolinecolor": "white",
           "zerolinewidth": 2
          }
         }
        },
        "title": {
         "text": "Promedio de Compra por Edad"
        },
        "xaxis": {
         "anchor": "y",
         "domain": [
          0,
          1
         ],
         "title": {
          "text": "Edad (años)"
         }
        },
        "yaxis": {
         "anchor": "x",
         "domain": [
          0,
          1
         ],
         "title": {
          "text": "Promedio de Compra (€)"
         }
        }
       }
      }
     },
     "metadata": {},
     "output_type": "display_data"
    }
   ],
   "source": [
    "import plotly.express as px\n",
    "\n",
    "# FUSIONO LOS DATAFRAMES DF_TRANSACTIONS Y DF_USERS EN DF_MERGED.\n",
    "df_merged = df_transactions.merge(df_users, left_on='user_id', right_on='id')\n",
    "\n",
    "# Obtengo el promedio de compra (amount) agrupado por edad (age) utilizando 'groupby' en df_merged.\n",
    "average_purchase_by_age = df_merged.groupby('age')['amount'].mean().reset_index()\n",
    "\n",
    "# Calcular correlación de Pearson entre edad y promedio de compra\n",
    "correlation = average_purchase_by_age['age'].corr(average_purchase_by_age['amount'])\n",
    "display(Markdown(f\"**Correlación de Pearson entre Edad y Promedio de Compra: valor obtenido:** {correlation:.2f}\"))\n",
    "\n",
    "# Crear gráfico de dispersión con Plotly Express\n",
    "fig = px.scatter(average_purchase_by_age, x='age', y='amount')\n",
    "\n",
    "# Agregar título y etiquetas de ejes\n",
    "fig.update_layout(\n",
    "    title='Promedio de Compra por Edad',\n",
    "    xaxis_title='Edad (años)',\n",
    "    yaxis_title='Promedio de Compra (€)'\n",
    ")\n",
    "\n",
    "# Mostrar el gráfico\n",
    "fig.show()"
   ]
  },
  {
   "cell_type": "markdown",
   "metadata": {},
   "source": [
    "#### **Análisis**\n",
    "\n",
    "- La Correlación de Pearson (-0.05) sugiere una correlación negativa muy débil entre la edad de los usuarios y el promedio de compra que realizan. Esta correlación cercana a cero indica que no hay una relación lineal significativa entre la edad y el promedio de compra. Aunque la correlación es débil, el gráfico de dispersión generado previamente permite visualizar cómo se distribuyen los promedios de compra en diferentes grupos de edad.\n",
    "\n",
    "#### **Recomendaciones**\n",
    "\n",
    "- No se puede establecer una tendencia clara de que, a medida que la edad aumenta, el promedio de compra disminuya o viceversa. La edad de los usuarios no parece ser un predictor fuerte del promedio de compra en tu conjunto de datos. Por lo tanto, como consecuencia de este análisis, se puede indicar que la relación entre edad y cantidad de compra no será un factor determinante en el comportamiento de compra. Es necesario explorar otras variables que podrían tener una influencia más fuerte en el promedio de compra, como el nivel de ingresos, el tipo de productos comprados o el canal de compra utilizado."
   ]
  },
  {
   "cell_type": "markdown",
   "metadata": {},
   "source": [
    "# Exercici 3 Una variable categòrica."
   ]
  },
  {
   "cell_type": "markdown",
   "metadata": {},
   "source": [
    "#### **Situación:**\n",
    "\n",
    "- Con el objetivo de investigar las compras perdidas y determinar la necesidad de desarrollar nuevas estrategias, se solicita una variable categórica que permita identificar estos casos. He seleccionado la variable \"declined\" ya que indica si las transacciones han sido rechazadas, lo cual permite evaluar si es necesario profundizar en este aspecto."
   ]
  },
  {
   "cell_type": "markdown",
   "metadata": {},
   "source": [
    "#### **Desarrollo:**\n",
    "\n",
    "- Una opción habitual consiste en transformar la columna \"declined\", la cual indica si una transacción fue rechazada o no, en una variable categórica. Esta columna contiene valores binarios, como 0 y 1, lo cual la hace adecuada para esta transformación.\n",
    "\n",
    "   Los pasos a seguir son los siguientes:\n",
    "\n",
    "  1. **Convertir la columna declined en una variable categórica:**\n",
    "      - Vamos a asignar etiquetas categóricas a los valores de la columna declined:       \n",
    "        - 0 como \"No rechazada\"\n",
    "        - 1 como \"Rechazada\"\n",
    "\n",
    "  2. **Descripción de esta variable categórica:**\n",
    "      - Esta variable categórica nos proporcionará información crucial sobre el estado de las transacciones.\n",
    "      - La categorización nos permitirá entender la frecuencia y la proporción de transacciones rechazadas frente a las aceptadas.\n",
    "      - Podremos analizar la distribución de las transacciones rechazadas en relación con otras variables, como el tipo de transacción, la cantidad de la compra, o el momento del rechazo (si está disponible).\n",
    "      - Ayudará a identificar patrones y tendencias que podrían sugerir la necesidad de ajustar políticas de aceptación de transacciones o de mejorar la seguridad para reducir los rechazos.\n",
    "\n",
    "  Al transformar y describir esta variable categórica, estaremos mejor equipados para tomar decisiones informadas y diseñar estrategias efectivas para optimizar el proceso de transacciones.\n"
   ]
  },
  {
   "cell_type": "code",
   "execution_count": 7,
   "metadata": {},
   "outputs": [
    {
     "name": "stdout",
     "output_type": "stream",
     "text": [
      "declined\n",
      "0    500\n",
      "1     87\n",
      "Name: count, dtype: int64\n",
      "count     587\n",
      "unique      2\n",
      "top         0\n",
      "freq      500\n",
      "Name: declined, dtype: object\n"
     ]
    },
    {
     "data": {
      "image/png": "[encoded data removed]",
      "text/plain": [
       "<Figure size 640x480 with 1 Axes>"
      ]
     },
     "metadata": {},
     "output_type": "display_data"
    }
   ],
   "source": [
    "# Convertir la columna 'declined' a una variable categórica\n",
    "df_transactions['declined'] = df_transactions['declined'].astype('category')\n",
    "\n",
    "# Calcula la frecuencia de valores y  Muestra la tabla de frecuencias\n",
    "freq_table = df_transactions['declined'].value_counts()\n",
    "print(freq_table)\n",
    "\n",
    "# Describir la variable categórica\n",
    "description = df_transactions['declined'].describe()\n",
    "print(description)\n",
    "\n",
    "# Crear el gráfico de barras\n",
    "sns.countplot(x='declined', data=df_transactions)\n",
    "plt.title('Frecuencia de Transacciones Aceptadas y Rechazadas')\n",
    "plt.xlabel('Estado de Transacción')\n",
    "plt.ylabel('Frecuencia')\n",
    "plt.xticks(ticks=[0, 1], labels=['Aceptada', 'Rechazada'])\n",
    "plt.show()"
   ]
  },
  {
   "cell_type": "markdown",
   "metadata": {},
   "source": [
    "#### **Analisis:**\n",
    "\n",
    "\n",
    "- **Valores y frecuencia:**\n",
    "  - Hay un total de 587 registros en la columna \"declined\".\n",
    "  - Se observan dos valores únicos: 0 y 1.\n",
    "  - El valor más frecuente es 0, con una frecuencia de 500 veces.\n",
    "\n",
    "Esta variable categórica indica si las transacciones fueron rechazadas (1) o no (0). Según los datos proporcionados, la mayoría de las transacciones (500 de 587) no fueron rechazadas, mientras que 87 transacciones sí fueron rechazadas. Este análisis inicial nos permite entender la distribución y la proporción de transacciones rechazadas en relación con las aceptadas, lo cual es crucial para evaluar la efectividad y la seguridad del proceso de transacciones.\n",
    "\n",
    "\n",
    "#### **Recomendaciones:**\n",
    "\n",
    "1. **Análisis de Causas de Rechazo:**\n",
    "   - Esto puede incluir problemas de validación de tarjetas, límites de crédito insuficientes, o medidas de seguridad activadas.\n",
    "   - Implementar sistemas de registro detallado de los motivos de rechazo para identificar patrones recurrentes.\n",
    "\n",
    "2. **Optimización de Políticas de Aprobación:**\n",
    "   - Revisar y ajustar las políticas de aprobación de transacciones para minimizar los rechazos injustificados sin comprometer la seguridad. Se podrían considerar la actualización de los límites de crédito o la implementación de criterios más flexibles basados en comportamientos históricos de los usuarios.\n",
    "\n",
    "3. **Mejora en la Experiencia del Usuario:**\n",
    "   - Ofrecer retroalimentación clara y rápida a los usuarios cuando una transacción sea rechazada, indicando los pasos necesarios para resolver el problema.\n",
    "\n",
    "4. **Monitoreo Continuo y Evaluación de Resultados:**\n",
    "   - Establecer métricas clave para monitorear la tasa de rechazo de transacciones y su impacto en las ventas y la satisfacción del cliente.\n",
    "   - Realizar revisiones periódicas de los datos para evaluar la efectividad de las estrategias implementadas y realizar ajustes según sea necesario.\n",
    "\n",
    "5. **Capacitación y Actualización del Personal:**\n",
    "   - Capacitar al personal involucrado en el procesamiento de transacciones para manejar eficazmente situaciones de rechazo y ofrecer soporte adecuado a los clientes afectados.\n",
    "\n",
    "Implementar estas recomendaciones ayudará a mitigar las compras perdidas debido a rechazos de transacciones, mejorando así la eficiencia operativa  y la satisfacción del cliente en el proceso de compra.\n"
   ]
  },
  {
   "cell_type": "markdown",
   "metadata": {},
   "source": [
    "# Exercici 4: Una variable categòrica i una numèrica."
   ]
  },
  {
   "cell_type": "markdown",
   "metadata": {},
   "source": [
    "####  **Situación:**\n",
    "\n",
    "La empresa ha solicitado realizar un análisis detallado de los montos asociados a transacciones declinadas y no declinadas. El objetivo es identificar patrones y diferencias significativas entre estos dos grupos, lo cual será fundamental para optimizar estrategias empresariales relacionadas con la gestión de transacciones y la mejora de la experiencia del cliente."
   ]
  },
  {
   "cell_type": "markdown",
   "metadata": {},
   "source": [
    "#### **Desarrollo:**\n",
    "\n",
    "Para obtener la visualización sigo los siguientes pasos: \n",
    "1. Tomo las variables de 'declined' como categorica y 'amount' como continua. \n",
    "2. Gráfico de barras: Muestra la frecuencia de transacciones aceptadas y rechazadas.\n",
    "3. Bocplot para mostrar la distribución de los montos (amount) para transacciones aceptadas y rechazadas."
   ]
  },
  {
   "cell_type": "code",
   "execution_count": 8,
   "metadata": {},
   "outputs": [
    {
     "data": {
      "image/png": "[encoded data removed]",
      "text/plain": [
       "<Figure size 1400x600 with 1 Axes>"
      ]
     },
     "metadata": {},
     "output_type": "display_data"
    }
   ],
   "source": [
    "plt.figure(figsize=(14, 6))\n",
    "\n",
    "# Gráfico de caja de la variable numérica 'amount' por la categórica 'declined'\n",
    "plt.subplot(1, 2, 2)\n",
    "sns.boxplot(x='declined', y='amount', data=df_transactions)\n",
    "plt.title('Distribución del Monto por Estado de Transacción')\n",
    "plt.xlabel('Estado de Transacción')\n",
    "plt.ylabel('Monto')\n",
    "plt.xticks(ticks=[0, 1], labels=['Aceptada', 'Rechazada'])\n",
    "\n",
    "plt.tight_layout()\n",
    "plt.show()\n"
   ]
  },
  {
   "cell_type": "markdown",
   "metadata": {},
   "source": [
    "#### Análisis\n",
    "Se observa que la media de los montos en ambos grupos (Aceptada y Rechazada) es muy similar. Tanto los rangos intercuartílicos como la mediana también muestran similitudes. Es importante destacar que el número de transacciones aceptadas es significativamente mayor que el de las rechazadas. El gráfico no refleja esta disparidad, por lo que, si no se tiene en cuenta, podría llevar a interpretaciones incorrectas."
   ]
  },
  {
   "cell_type": "markdown",
   "metadata": {},
   "source": [
    "#### Recomendaciones\n",
    "\n",
    "No es posible establecer recomendaciones basadas únicamente en estos datos. Es necesario considerar otras variables para un análisis más completo, como el tipo de transacción, el país de origen o el producto. Para una correcta interpretación y la toma de decisiones adecuadas, es esencial complementar esta información con otras variables."
   ]
  },
  {
   "cell_type": "markdown",
   "metadata": {},
   "source": [
    "# Exercici 5: Dues variables categòriques."
   ]
  },
  {
   "cell_type": "markdown",
   "metadata": {},
   "source": [
    "#### **Situación:**\n",
    "\n",
    "La empresa desea identificar la relación entre el pais de origen del ususario y el estado de las transacciones para optimizar sus esfuerzos y evitar pérdidas financieras."
   ]
  },
  {
   "cell_type": "markdown",
   "metadata": {},
   "source": [
    "\n",
    "### **Desarrollo:**\n",
    "\n",
    "Para abordar esta situación, se llevará a cabo el siguiente análisis:\n",
    "\n",
    "1. **Unión de Tablas:**\n",
    "   - Se unirá la tabla `df_transactions` con la tabla `df_users` utilizando la columna `user_id`. Esta unión permitirá enriquecer los datos de transacciones con información adicional de los usuarios, como el país de origen.\n",
    "2. **Definir las Variables Categóricas:**\n",
    "   - Me aseguro que se reconocerà como variable categorica. Esto facilitará el análisis y la visualización de los datos. \n",
    "3. **Análisis de Relación País - Estado de Transacciones:**\n",
    "   - Se explorará cómo varía el estado de las transacciones (aceptadas o rechazadas) en diferentes países.\n",
    "   - Esto permitirá identificar patrones y tendencias que puedan indicar áreas geográficas con mayores incidencias de transacciones rechazadas.\n",
    "\n",
    "Este enfoque permitirá a la empresa tomar decisiones informadas y estratégicas para optimizar sus operaciones globales y reducir las pérdidas asociadas con transacciones rechazadas.\n",
    "\n"
   ]
  },
  {
   "cell_type": "code",
   "execution_count": 9,
   "metadata": {},
   "outputs": [
    {
     "data": {
      "image/png": "[encoded data removed]",
      "text/plain": [
       "<Figure size 1000x600 with 1 Axes>"
      ]
     },
     "metadata": {},
     "output_type": "display_data"
    }
   ],
   "source": [
    "import pandas as pd\n",
    "import seaborn as sns\n",
    "import matplotlib.pyplot as plt\n",
    "\n",
    "\n",
    "# Unir las tablas df_transactions y df_users usando user_id\n",
    "merged_df = pd.merge(df_transactions, df_users, left_on='user_id', right_on='id', suffixes=('_transaction', '_user'))\n",
    "\n",
    "# Convertir 'declined' y 'country' en variables categóricas\n",
    "merged_df['declined'] = merged_df['declined'].astype('category')\n",
    "merged_df['country'] = merged_df['country'].astype('category')\n",
    "\n",
    "# Graficar los datos\n",
    "plt.figure(figsize=(10, 6))\n",
    "\n",
    "# Gráfico de conteo para las variables categóricas 'declined' y 'country'\n",
    "sns.countplot(x='country', hue='declined', data=merged_df)\n",
    "plt.title('Frecuencia de Transacciones')\n",
    "plt.xlabel('País del usuario')\n",
    "plt.ylabel('Frecuencia')\n",
    "plt.legend(title='Declined', labels=['Aceptada', 'Rechazada'])\n",
    "\n",
    "plt.tight_layout()\n",
    "plt.show()"
   ]
  },
  {
   "cell_type": "markdown",
   "metadata": {},
   "source": [
    "### Analisis\n",
    "\n",
    "Es evidente que los usuarios de Canadá son los únicos que presentan transacciones rechazadas, a diferencia de los usuarios de Reino Unido y Estados Unidos, quienes no experimentan este problema. Este patrón sugiere que las transacciones rechazadas están vinculadas de manera exclusiva a los usuarios canadienses.\n",
    "\n",
    "En Canadá, las transacciones aceptadas varían entre 250 y 260, mientras que las rechazadas están aproximadamente entre 80 y 90. En el Reino Unido, las transacciones aceptadas son aproximadamente 50 y no se registran transacciones rechazadas. En Estados Unidos, las transacciones aceptadas son aproximadamente 150, también sin rechazos.\n",
    "\n",
    "Estos datos indican que, aunque Canadá tiene una alta frecuencia de transacciones aceptadas, también enfrenta un número significativo de rechazos. En comparación, tanto Reino Unido como Estados Unidos tienen menores frecuencias de transacciones aceptadas pero no presentan rechazos. Esto subraya un problema específico en el sistema de transacciones para los usuarios canadienses que debe ser abordado."
   ]
  },
  {
   "cell_type": "markdown",
   "metadata": {},
   "source": [
    "### Recomendaciones\n",
    "\n",
    "Dado que los usuarios con transacciones rechazadas provienen principalmente de Canadá, es fundamental desarrollar un plan de acción específico para abordar esta situación. Desde este punto sería posible recomendar: \n",
    "\n",
    "- Establecer alianzas estratégicas con bancos locales en Canadá para mejorar el proceso de aprobación de transacciones. Esto podría implicar la integración de sistemas o la negociación de acuerdos para facilitar las compras internacionales.\n",
    "\n",
    "- Realizar un estudio exhaustivo para identificar las posibles barreras que enfrentan los usuarios canadienses al realizar compras internacionales. Esto podría abarcar desde restricciones impuestas por los bancos hasta políticas de seguridad más estrictas.\n",
    "\n",
    "- Potenciar y adaptar el sistema de compras para asegurar que sea compatible y eficiente con las instituciones financieras canadienses. Esto podría incluir la implementación de métodos de pago alternativos que sean más aceptados en Canadá.\n",
    "\n",
    "Es posible que las dificultades con los bancos canadienses se deban a políticas más restrictivas en comparación con las de Reino Unido o Estados Unidos. Abordar estas diferencias de manera proactiva puede mejorar significativamente la tasa de éxito en las transacciones y fortalecer la confianza de los usuarios canadienses en el sistema de compras."
   ]
  },
  {
   "cell_type": "markdown",
   "metadata": {},
   "source": [
    "# Exercici 6: Tres variables."
   ]
  },
  {
   "cell_type": "markdown",
   "metadata": {},
   "source": [
    "### Situacion:\n",
    "\n",
    "Como complemento al ejercicio anterior, la empresa solicita un análisis adicional que ofrezca más detalles sobre las transacciones aceptadas y rechazadas. Para ello, he decidido estudiar tres variables: el estado de las transacciones, el país de las compañias y el monto asociado a cada transacción. Al investigar estas variables, espero identificar patrones que puedan ayudar a mejorar el rendimiento de la empresa y optimizar sus procesos de transacción.\n"
   ]
  },
  {
   "cell_type": "markdown",
   "metadata": {},
   "source": [
    "### Desarrollo: \n",
    "\n",
    "En este análisis, hemos trabajado con tres variables clave para entender mejor las transacciones aceptadas y rechazadas. Las variables categóricas seleccionadas (declined y country) nos permiten distinguir el estado de las transacciones y su origen geográfico. La variable numérica (amount) proporciona información sobre el valor de las transacciones.\n",
    "\n",
    "Primero, unimos la tabla df_transactions con la tabla df_users usando el campo user_id. Luego, unimos este resultado con la tabla df_companies utilizando el campo business_id. Convertimos las columnas declined y country en variables categóricas para facilitar el análisis y la visualización de los datos.\n",
    "\n",
    "Finalmente, creamos un gráfico de barras que muestra el monto total de las transacciones agrupadas por país y estado de transacción (aceptada o rechazada). Este gráfico nos ayuda a identificar patrones y diferencias en el comportamiento de las transacciones según el país de origen y su estado, proporcionando información valiosa para mejorar las estrategias y operaciones de la empresa."
   ]
  },
  {
   "cell_type": "code",
   "execution_count": 10,
   "metadata": {},
   "outputs": [
    {
     "data": {
      "text/plain": [
       "<Figure size 1200x800 with 0 Axes>"
      ]
     },
     "metadata": {},
     "output_type": "display_data"
    },
    {
     "data": {
      "image/png": "[encoded data removed]",
      "text/plain": [
       "<Figure size 1200x800 with 1 Axes>"
      ]
     },
     "metadata": {},
     "output_type": "display_data"
    }
   ],
   "source": [
    "# Suponiendo que 'id' en df_companies corresponde a 'business_id' en df_transactions\n",
    "merged_df = pd.merge(df_transactions, df_users, left_on='user_id', right_on='id', suffixes=('_transaction', '_user'))\n",
    "merged_df = pd.merge(merged_df, df_companies, left_on='business_id', right_on='company_id')\n",
    "\n",
    "# Convertir 'declined' y 'country' en variables categóricas\n",
    "merged_df['declined'] = merged_df['declined'].astype('category')\n",
    "merged_df['country_y'] = merged_df['country_y'].astype('category')\n",
    "\n",
    "# Graficar los datos\n",
    "plt.figure(figsize=(12, 8))\n",
    "\n",
    "# Gráfico de barras agrupadas con 'amount' por 'country' y 'declined'\n",
    "plt.figure(figsize=(12, 8))\n",
    "sns.barplot(x='country_y', y='amount', hue='declined', data=merged_df, estimator=sum)\n",
    "plt.title('Monto Total de Transacciones')\n",
    "plt.xlabel('País desde donde se realiza la transacción')\n",
    "plt.ylabel('Monto Total')\n",
    "plt.legend(title='Estado de Transacción', labels=['Aceptada', 'Rechazada'])\n",
    "\n",
    "plt.xticks(rotation=45)\n",
    "plt.tight_layout()\n",
    "plt.show()"
   ]
  },
  {
   "cell_type": "markdown",
   "metadata": {},
   "source": [
    "### **Analisis:**\n",
    "\n",
    "El gráfico compara las transacciones aceptadas y rechazadas en diferentes países. Las barras que representan las transacciones aceptadas son significativamente más altas que las rechazadas, lo que indica una mayor cantidad de transacciones exitosas. Este tipo de análisis puede ser útil para evaluar tendencias en el procesamiento de transacciones o el rendimiento de sistemas financieros en distintas ubicaciones. En el caso de españa no se ven datos, debido al bajo monto de compra. "
   ]
  },
  {
   "cell_type": "markdown",
   "metadata": {},
   "source": [
    "# Exercici 7: graficas un pairplot"
   ]
  },
  {
   "cell_type": "markdown",
   "metadata": {},
   "source": [
    "#### Situacion \n",
    "\n",
    "El pairplot mostrará todas las relaciones posibles entre las variables numéricas, ayudando a identificar correlaciones y patrones entre las variables transaccionales.\n",
    "\n"
   ]
  },
  {
   "cell_type": "code",
   "execution_count": 11,
   "metadata": {},
   "outputs": [
    {
     "name": "stdout",
     "output_type": "stream",
     "text": [
      "Index(['country_trans', 'country_comp', 'declined', 'amount', 'age',\n",
      "       'age_group'],\n",
      "      dtype='object')\n"
     ]
    },
    {
     "data": {
      "image/png": "[encoded data removed]",
      "text/plain": [
       "<Figure size 574.347x500 with 6 Axes>"
      ]
     },
     "metadata": {},
     "output_type": "display_data"
    }
   ],
   "source": [
    "import pandas as pd\n",
    "import seaborn as sns\n",
    "import matplotlib.pyplot as plt\n",
    "from datetime import datetime\n",
    "\n",
    "# Supongamos que ya tienes cargados los DataFrames df_companies, df_credit_cards, df_transactions, df_users\n",
    "\n",
    "# Unir las tablas df_transactions y df_credit_cards\n",
    "merged_df = pd.merge(df_transactions, df_credit_cards, left_on='card_id', right_on='id', suffixes=('_trans', '_card'))\n",
    "\n",
    "# Unir df_users al merged_df\n",
    "merged_df2 = pd.merge(merged_df, df_users, left_on='user_id_trans', right_on='id', suffixes=('_trans', '_user'))\n",
    "\n",
    "# Si también necesitas incluir df_companies\n",
    "merged_df3 = pd.merge(merged_df2, df_companies, left_on='business_id', right_on='company_id', how='left', suffixes=('_trans', '_comp'))\n",
    "\n",
    "# Calcular la edad a partir de la fecha de nacimiento\n",
    "merged_df3['birth_date'] = pd.to_datetime(merged_df3['birth_date'], format='%b %d, %Y')  # Convertir a tipo datetime si no está ya convertida\n",
    "merged_df3['age'] = datetime.now().year - merged_df3['birth_date'].dt.year  # Calcular la edad en años\n",
    "\n",
    "# Crear un grupo de edades cada 5 años\n",
    "merged_df3['age_group'] = (merged_df3['age'] // 5) * 5\n",
    "\n",
    "# Definir variables categóricas y numéricas\n",
    "categorical_columns = ['country_trans', 'country_comp', 'declined']  # Incluir 'declined' como categórica\n",
    "numeric_columns = ['amount', 'age', 'age_group']  # Incluir la edad y grupo de edad como columnas numéricas\n",
    "\n",
    "# Filtrar el DataFrame para incluir solo las columnas relevantes y eliminar filas con NaN\n",
    "plot_data = merged_df3[categorical_columns + numeric_columns].dropna()\n",
    "\n",
    "# Imprimir las columnas seleccionadas\n",
    "print(plot_data.columns)\n",
    "\n",
    "# Crear el pairplot diferenciando por la columna 'declined' y utilizando el grupo de edad\n",
    "sns.pairplot(plot_data, hue='declined', vars=['amount', 'age_group'])\n",
    "\n",
    "# Personalizar el gráfico para que muestre la edad cada 5 años en el eje x\n",
    "plt.xticks(range(0, int(plot_data['age'].max()) + 1, 5))\n",
    "\n",
    "plt.show()\n"
   ]
  },
  {
   "cell_type": "markdown",
   "metadata": {},
   "source": [
    "## Análisis\n",
    "\n",
    "El análisis del gráfico revela varios insights significativos sobre las transacciones y los usuarios involucrados. En cuanto a la distribución de la cantidad por transacción, se observa que la mayoría de las transacciones tienen un monto cercano a 500, con una mayor densidad en los montos más altos. Por otro lado, las transacciones rechazadas son notablemente menos frecuentes y generalmente implican montos más bajos en comparación con las transacciones aprobadas, que dominan en términos de cantidad y ocurrencia.\n",
    "\n",
    "En relación con la edad de los usuarios (age_group), se destaca que existe una concentración significativa en los grupos de edad de 25 a 45 años, indicando que este segmento demográfico realiza la mayoría de las transacciones. Aunque no se observa una tendencia clara que vincule directamente el monto de la transacción con el grupo de edad, se percibe una distribución uniforme de transacciones a lo largo de los diferentes grupos de edad, con una ligera concentración entre los 25 y 45 años.\n",
    "\n",
    "Además, al examinar la relación específica entre el grupo de edad y el monto de la transacción, se confirma la ausencia de una correlación evidente. Las transacciones rechazadas muestran una dispersión mayor a través de diferentes grupos de edad y montos, lo que sugiere una evaluación más diversa por parte de los criterios de riesgo establecidos.\n",
    "\n",
    "En resumen, el análisis subraya que las transacciones aprobadas tienden a ser de montos más altos, reflejando confianza en el sistema de aprobación para sumas significativas. Asimismo, la concentración de usuarios entre 25 y 45 años destaca como el grupo más activo en términos de uso de tarjetas de crédito, mientras que la relación entre el monto de la transacción y la edad del usuario permanece menos definida, indicando una participación generalizada de todos los grupos de edad en transacciones de diversos montos."
   ]
  },
  {
   "cell_type": "markdown",
   "metadata": {},
   "source": [
    "#### Conclusiones\n",
    "\n",
    "- La mayoría de las transacciones aprobadas son de montos altos, lo cual sugiere una confianza en el sistema de aprobación para montos elevados.\n",
    "- Las transacciones se concentran en usuarios de entre 25 y 45 años, lo que puede indicar que este es el grupo de edad más activo en términos de uso de tarjetas de crédito.\n",
    "- No hay una relación clara entre el monto de la transacción y el grupo de edad del usuario, lo que sugiere que todos los grupos de edad realizan transacciones de diversos montos.\n",
    "- Las transacciones rechazadas son menos comunes y tienden a tener montos menores, lo que puede estar relacionado con criterios de riesgo establecidos por la entidad financiera.\n",
    "\n",
    "Este análisis puede ayudar a entender mejor el comportamiento de los usuarios en términos de edad y montos de transacción, y cómo las decisiones de aprobación/rechazo afectan a diferentes segmentos de usuarios.\n"
   ]
  }
 ],
 "metadata": {
  "kernelspec": {
   "display_name": "Python 3",
   "language": "python",
   "name": "python3"
  },
  "language_info": {
   "codemirror_mode": {
    "name": "ipython",
    "version": 3
   },
   "file_extension": ".py",
   "mimetype": "text/x-python",
   "name": "python",
   "nbconvert_exporter": "python",
   "pygments_lexer": "ipython3",
   "version": "3.12.3"
  }
 },
 "nbformat": 4,
 "nbformat_minor": 2
}
