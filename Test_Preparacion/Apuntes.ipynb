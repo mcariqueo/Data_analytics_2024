{
 "cells": [
  {
   "cell_type": "markdown",
   "metadata": {},
   "source": [
    "**Conexión a MySQL**:\n",
    "   - La conexión puede ser cualquiera, lo único que cambiará será el nombre de la nueva base de datos."
   ]
  },
  {
   "cell_type": "code",
   "execution_count": 9,
   "metadata": {},
   "outputs": [],
   "source": [
    "import mysql.connector\n",
    "\n",
    "user= 'root'\n",
    "password= '250301'\n",
    "host = 'localhost'\n",
    "database = 'trades4'\n",
    "\n",
    "cnx = mysql.connector.connect(user=user,password=password,host=host,database=database)\n",
    "cursor = cnx.cursor()"
   ]
  }
 ],
 "metadata": {
  "kernelspec": {
   "display_name": "Python 3",
   "language": "python",
   "name": "python3"
  },
  "language_info": {
   "codemirror_mode": {
    "name": "ipython",
    "version": 3
   },
   "file_extension": ".py",
   "mimetype": "text/x-python",
   "name": "python",
   "nbconvert_exporter": "python",
   "pygments_lexer": "ipython3",
   "version": "3.12.3"
  }
 },
 "nbformat": 4,
 "nbformat_minor": 2
}
