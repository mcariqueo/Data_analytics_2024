{
 "cells": [
  {
   "cell_type": "markdown",
   "metadata": {},
   "source": [
    "**Conexión a MySQL**:\n",
    "   - La conexión puede ser cualquiera, lo único que cambiará será el nombre de la nueva base de datos.\n",
    "   - Con esta conexion tengo listo "
   ]
  },
  {
   "cell_type": "code",
   "execution_count": null,
   "metadata": {},
   "outputs": [],
   "source": [
    "import mysql.connector\n",
    "import pandas as pd\n",
    "import seaborn as sns\n",
    "import matplotlib.pyplot as plt \n",
    "from datetime import datetime\n"
   ]
  },
  {
   "cell_type": "code",
   "execution_count": null,
   "metadata": {},
   "outputs": [],
   "source": [
    "import mysql.connector\n",
    "import pandas as pd\n",
    "\n",
    "user        = 'root'\n",
    "password    = '250301'\n",
    "host        = 'localhost'\n",
    "database    = 'trades4'\n",
    "\n",
    "# Establecer la conexión\n",
    "cnx = mysql.connector.connect(user=user, password=password, host=host, database=database)\n",
    "cursor = cnx.cursor()\n",
    "\n",
    "# Obtener nombre de las tablas\n",
    "cursor.execute(\"SHOW TABLES\")\n",
    "\n",
    "# Obtener los resultados y almacenarlos en una lista\n",
    "tables = cursor.fetchall()\n",
    "table_names = [table[0] for table in tables]\n",
    "\n",
    "# Crear un diccionario para almacenar los DataFrames\n",
    "dfs = {}\n",
    "\n",
    "for table_name in table_names:\n",
    "    cursor.execute(f\"SELECT * FROM {table_name}\")\n",
    "    rows = cursor.fetchall()\n",
    "    df = pd.DataFrame(rows, columns=[desc[0] for desc in cursor.description])\n",
    "    dfs[table_name] = df\n",
    "\n",
    "# Crear variables globales para cada DataFrame\n",
    "for table_name, df in dfs.items():\n",
    "    globals()[f\"df_{table_name}\"] = df\n"
   ]
  },
  {
   "cell_type": "code",
   "execution_count": null,
   "metadata": {},
   "outputs": [],
   "source": [
    "print(\"\")    \n",
    "print(\"Todas la tablas se llaman df_nombre\")\n",
    "\n",
    "# Imprimir los nombres finales de los DataFrames\n",
    "print(\"Nombres finales de los DataFrames:\")\n",
    "for table_name in table_names:\n",
    "    print(f\"df_{table_name}\")\n",
    "\n"
   ]
  },
  {
   "cell_type": "code",
   "execution_count": null,
   "metadata": {},
   "outputs": [],
   "source": [
    "# Quiero mostrar cada dataframe:\n",
    "df_companies.head()"
   ]
  },
  {
   "cell_type": "markdown",
   "metadata": {},
   "source": [
    "### **Operaciones con DataFrames (DF)**:"
   ]
  },
  {
   "cell_type": "markdown",
   "metadata": {},
   "source": [
    "### # **Mostrar información de un DF**:"
   ]
  },
  {
   "cell_type": "code",
   "execution_count": null,
   "metadata": {},
   "outputs": [],
   "source": [
    "# Primeras filas.\n",
    "df_companies.head()"
   ]
  },
  {
   "cell_type": "code",
   "execution_count": null,
   "metadata": {},
   "outputs": [],
   "source": [
    "# Últimas filas.\n",
    "df_companies.tail()"
   ]
  },
  {
   "cell_type": "code",
   "execution_count": null,
   "metadata": {},
   "outputs": [],
   "source": [
    "# Tipos de datos.\n",
    "df_companies.dtypes"
   ]
  },
  {
   "cell_type": "code",
   "execution_count": null,
   "metadata": {},
   "outputs": [],
   "source": [
    "# Cantidad de filas y de columnas.\n",
    "df_companies.shape  # filas, columnas"
   ]
  },
  {
   "cell_type": "code",
   "execution_count": null,
   "metadata": {},
   "outputs": [],
   "source": [
    "\n",
    "df_transactions[\"amount\"] = df_transactions[\"amount\"].astype(float)\n",
    "df_transactions.dtypes"
   ]
  },
  {
   "cell_type": "code",
   "execution_count": null,
   "metadata": {},
   "outputs": [],
   "source": [
    "df_transactions[\"usd_amount\"] = df_transactions[\"amount\"]*0.5\n",
    "\n",
    "df_transactions.head()"
   ]
  },
  {
   "cell_type": "markdown",
   "metadata": {},
   "source": [
    "Borrar Columna"
   ]
  },
  {
   "cell_type": "code",
   "execution_count": null,
   "metadata": {},
   "outputs": [],
   "source": [
    "df_transactions= df_transactions.drop(columns=['col_new2'])\n"
   ]
  },
  {
   "cell_type": "markdown",
   "metadata": {},
   "source": [
    "Mostrar Primeras cosas "
   ]
  },
  {
   "cell_type": "code",
   "execution_count": null,
   "metadata": {},
   "outputs": [],
   "source": [
    "df_transactions.head()"
   ]
  },
  {
   "cell_type": "markdown",
   "metadata": {},
   "source": [
    "  - **Crear una nueva columna** a partir de alguna/s ya conocidas:\n",
    "     - Ejemplo: monto total desde cantidad y precio.\n",
    "     - Ejemplo: 1 y 0 si cumple alguna condición.\n",
    "     - Ejemplo: bajo, medio o alto si cumple alguna condición.\n"
   ]
  },
  {
   "cell_type": "code",
   "execution_count": null,
   "metadata": {},
   "outputs": [],
   "source": [
    "# Crear una nueva columna 'condicion' \n",
    "df_users[\"id\"] = df_users[\"id\"].astype(int)\n",
    "df_users[\"col_new\"] = df_users[\"id\"] + 1 #\n",
    "df_users = df_users.drop(columns=['col_new'])\n",
    "df_users.head()"
   ]
  },
  {
   "cell_type": "code",
   "execution_count": null,
   "metadata": {},
   "outputs": [],
   "source": [
    "mapping = {\"United Kingdom\": 0, \"United States\": 1, \"Canada\": 3}\n",
    "df_users[\"col_new2\"] = df_users[\"country\"].map(mapping) # df_users = df_users.drop(columns=['col_new2'])\n",
    "df_users.head()"
   ]
  },
  {
   "cell_type": "code",
   "execution_count": null,
   "metadata": {},
   "outputs": [],
   "source": [
    "# para el caso 0 y 1 puedo tambien usar mapping\n",
    "\n",
    "print(df_transactions[\"declined\"].dtype)\n",
    "mapping = {\"0\": \"Aceptada\", \"1\": \"rechazada\"}\n",
    "df_transactions[\"col_new2\"] = df_transactions[\"declined\"].map(mapping) \n",
    "\n",
    "df_transactions.head()\n"
   ]
  },
  {
   "cell_type": "code",
   "execution_count": null,
   "metadata": {},
   "outputs": [],
   "source": [
    "# Ejemplo: bajo, medio o alto si cumple alguna condición.\n",
    "\n",
    "import numpy as np\n",
    "df_transactions[\"amount\"] = df_transactions[\"amount\"].astype(float)\n",
    "# Define conditions and corresponding choices\n",
    "df_transactions[\"colnewamount\"] = np.where(\n",
    "    df_transactions[\"amount\"] < 100, \"bajo\",\n",
    "    np.where(df_transactions[\"amount\"] < 200, \"medio\", \"alto\")\n",
    ")\n",
    "df_transactions.head()"
   ]
  },
  {
   "cell_type": "code",
   "execution_count": null,
   "metadata": {},
   "outputs": [],
   "source": [
    "# grafica de varibale numerica\n",
    "\n",
    "sns.histplot(df_transactions[\"amount\"], kde=True)\n"
   ]
  },
  {
   "cell_type": "markdown",
   "metadata": {},
   "source": [
    "**Gráfica de una variable categórica**.\n"
   ]
  },
  {
   "cell_type": "code",
   "execution_count": null,
   "metadata": {},
   "outputs": [],
   "source": [
    "#Importamos librerías\n",
    "import pandas as pd\n",
    "import numpy as np\n",
    "import matplotlib.pyplot as plt \n",
    "import seaborn as sns\n",
    "\n",
    "# Definimos un estilo\n",
    "plt.style.use('seaborn-v0_8-pastel')"
   ]
  },
  {
   "cell_type": "markdown",
   "metadata": {},
   "source": []
  },
  {
   "cell_type": "code",
   "execution_count": null,
   "metadata": {},
   "outputs": [],
   "source": [
    "# grafico variable categorica\n",
    "sns.countplot(y='country', width=0.6, data=df_companies)\n",
    "plt.xlabel('titulo')\n",
    "plt.ylabel('País')\n",
    "plt.title('Cantidad ')\n",
    "plt.show()"
   ]
  },
  {
   "cell_type": "code",
   "execution_count": null,
   "metadata": {},
   "outputs": [],
   "source": [
    "# Contar la frecuencia de cada país y ordenar\n",
    "country_order = df_companies['country'].value_counts().index\n",
    "\n",
    "# Gráfico de conteo ordenado\n",
    "sns.countplot(y='country', hue=\"country\", data=df_companies, order=country_order, palette='viridis')\n",
    "# Etiquetas y título\n",
    "plt.xlabel('País')\n",
    "plt.ylabel('Cantidad de empresas')\n",
    "plt.title('Distribución de empresas por país')\n",
    "\n",
    "# Mostrar gráfico\n",
    "plt.show()"
   ]
  },
  {
   "cell_type": "markdown",
   "metadata": {},
   "source": [
    "**gráfica de una variable categórica**\n"
   ]
  },
  {
   "cell_type": "code",
   "execution_count": null,
   "metadata": {},
   "outputs": [],
   "source": [
    "# no es necesario simpre pasarlo a una variable categorica: \n",
    "# df_transactions[\"declined\"] = df_transactions[\"declined\"].astype(\"category\")\n",
    "\n",
    "# Gráfico de conteo para la variable categórica 'declined'\n",
    "sns.countplot(x='col_new2', hue = \"col_new2\", data=df_transactions, palette='viridis')\n",
    "\n",
    "# Etiquetas y título\n",
    "plt.xlabel('Declined')\n",
    "plt.ylabel('Cantidad')\n",
    "plt.title('Distribución de transacciones declinadas')\n",
    "plt.show()\n"
   ]
  },
  {
   "cell_type": "markdown",
   "metadata": {},
   "source": [
    "\n",
    "\n"
   ]
  },
  {
   "cell_type": "markdown",
   "metadata": {},
   "source": [
    "# gráfica de una variable numérica"
   ]
  },
  {
   "cell_type": "code",
   "execution_count": null,
   "metadata": {},
   "outputs": [],
   "source": [
    "sns.scatterplot(x=\"amount\", y=\"user_id\", data=df_transactions)\n",
    "# Etiquetas y título\n",
    "plt.xlabel('Amount')\n",
    "plt.ylabel('')\n",
    "plt.yticks([]) # para que no se vean los datos\n",
    "plt.title('Scatter plot de Amount vs ID')\n",
    "\n"
   ]
  },
  {
   "cell_type": "code",
   "execution_count": null,
   "metadata": {},
   "outputs": [],
   "source": [
    "\n",
    "sns.histplot(df_transactions[\"amount\"], kde=True)\n"
   ]
  },
  {
   "cell_type": "markdown",
   "metadata": {},
   "source": [
    "**Gráfica que relaciones dos variables numéricas**      \n",
    "Gráfico de dispersión:"
   ]
  },
  {
   "cell_type": "code",
   "execution_count": null,
   "metadata": {},
   "outputs": [],
   "source": [
    "df_users[\"id\"].astype(\"category\")\n",
    "sns.scatterplot(x=df_transactions[\"amount\"], y=df_users[\"id\"])"
   ]
  },
  {
   "cell_type": "markdown",
   "metadata": {},
   "source": [
    "### **graficar una dos numericas**"
   ]
  },
  {
   "cell_type": "code",
   "execution_count": null,
   "metadata": {},
   "outputs": [],
   "source": [
    "# Convertir 'birth_date' a datetime y calcular la edad\n",
    "df_users['birth_date'] = pd.to_datetime(df_users['birth_date'], format='%b %d, %Y')\n",
    "df_users['age'] = datetime.now().year - df_users['birth_date'].dt.year"
   ]
  },
  {
   "cell_type": "code",
   "execution_count": null,
   "metadata": {},
   "outputs": [],
   "source": [
    "# Renombrar la columna 'id' a 'user_id' en df_users para hacer el merge\n",
    "df_users.rename(columns={'id': 'user_id'}, inplace=True)\n",
    "df_users['user_id'] = df_users['user_id'].astype(int)\n",
    "df_transactions['user_id'] = df_transactions['user_id'].astype(int)\n",
    "\n",
    "df_merged = pd.merge(df_users, df_transactions, on='user_id')\n",
    "sns.scatterplot(x=df_merged['age'], y=df_merged['amount'])"
   ]
  },
  {
   "cell_type": "markdown",
   "metadata": {},
   "source": [
    "Lo que sigue pueden probar tomando las variables desde la misma tabla y desde tablas diferentes:\n",
    "gráfica que relacione 2 variables numéricas"
   ]
  },
  {
   "cell_type": "code",
   "execution_count": null,
   "metadata": {},
   "outputs": [],
   "source": [
    "# Cogeré 2 variables numericas de la misma tabla:\n",
    "\n",
    "df_products[\"price\"] = df_products[\"price\"].str.replace(\"$\", \"\")\n",
    "\n",
    "df_products[[\"weight\", \"price\"]] = df_products[[\"weight\", \"price\"]].astype(float)\n",
    "\n",
    "df_products.head()\n",
    "\n",
    "sns.scatterplot(data= df_products, x=\"price\", y=\"weight\")\n"
   ]
  },
  {
   "cell_type": "markdown",
   "metadata": {},
   "source": [
    "#### **Gráfica de 1 variable numérica y 1 categórica**"
   ]
  },
  {
   "cell_type": "code",
   "execution_count": null,
   "metadata": {},
   "outputs": [],
   "source": [
    "# Puedo tratar de coger el declined y la edad \n",
    "df_merged = pd.merge(df_users, df_transactions, on='user_id')\n",
    "\n",
    "\n",
    "# Ajuste del estilo\n",
    "sns.set(style=\"whitegrid\")\n",
    "\n",
    "# Creación del gráfico\n",
    "plt.figure(figsize=(10, 6))  # Ajuste del tamaño de la figura\n",
    "sns.boxplot(data=df_merged, x=\"declined\", y=\"age\")\n",
    "\n",
    "#df_users[\"age\"] \n",
    "#df_transactions[\"declined\"]\n"
   ]
  },
  {
   "cell_type": "markdown",
   "metadata": {},
   "source": [
    "# Gráfica de 2 variables categóricas y 1 numérica"
   ]
  },
  {
   "cell_type": "code",
   "execution_count": null,
   "metadata": {},
   "outputs": [],
   "source": [
    "# Entonces tendré dos variables categoricas. Estan podrian ser: df_users.rename(columns={'id': 'user_id'}, inplace=True)\n",
    "df_transactions.rename(columns={\"business_id\": \"company_id\"}, inplace=True)\n",
    "df_comp_transactions = pd.merge(df_companies, df_transactions, on=\"company_id\")\n",
    "# Ajuste del estilo\n",
    "sns.set(style=\"whitegrid\")\n",
    "# Creación del gráfico\n",
    "plt.figure(figsize=(12, 8))  # Ajuste del tamaño de la figura\n",
    "sns.barplot(data=df_comp_transactions, x=\"amount\", y=\"country\")"
   ]
  },
  {
   "cell_type": "markdown",
   "metadata": {},
   "source": [
    "# fin del conextor\n"
   ]
  },
  {
   "cell_type": "code",
   "execution_count": null,
   "metadata": {},
   "outputs": [],
   "source": [
    "import mysql.connector\n",
    "from mysql.connector import errorcode\n",
    "\n",
    "# Parámetros de conexión\n",
    "user = 'root'\n",
    "password = '250301'\n",
    "host = 'localhost'\n",
    "database_name = 'farmacia'  # Nombre de la base de datos a eliminar\n",
    "\n",
    "# Establecer la conexión\n",
    "cnx = mysql.connector.connect(user=user, password=password, host=host)\n",
    "cursor = cnx.cursor()\n",
    "\n",
    "# Eliminar la base de datos\n",
    "cursor.execute(f\"DROP DATABASE IF EXISTS {database_name};\")\n",
    "print(f\"Base de datos '{database_name}' eliminada exitosamente.\")\n",
    "\n",
    "cursor.close()\n",
    "cnx.close()\n"
   ]
  },
  {
   "cell_type": "markdown",
   "metadata": {},
   "source": []
  }
 ],
 "metadata": {
  "kernelspec": {
   "display_name": "Python 3",
   "language": "python",
   "name": "python3"
  },
  "language_info": {
   "codemirror_mode": {
    "name": "ipython",
    "version": 3
   },
   "file_extension": ".py",
   "mimetype": "text/x-python",
   "name": "python",
   "nbconvert_exporter": "python",
   "pygments_lexer": "ipython3",
   "version": "3.12.3"
  }
 },
 "nbformat": 4,
 "nbformat_minor": 2
}
