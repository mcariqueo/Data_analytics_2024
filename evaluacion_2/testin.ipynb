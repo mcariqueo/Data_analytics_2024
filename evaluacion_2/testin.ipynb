{
 "cells": [
  {
   "cell_type": "code",
   "execution_count": 6,
   "metadata": {},
   "outputs": [
    {
     "name": "stdout",
     "output_type": "stream",
     "text": [
      "Lista inicial:            ['1.3', 'one', '1e10', 'seven', '3-1/2', ('2', 1, 1.4, 'not-a-number'), [1, 2, '3', '3.4']]\n",
      "Lista aplanada:           ['1.3', 'one', '1e10', 'seven', '3-1/2', '2', 1, 1.4, 'not-a-number', 1, 2, '3', '3.4']\n",
      "Números convertidos:      [1.3, 10000000000.0, 2.0, 1.0, 1.4, 1.0, 2.0, 3.0, 3.4]\n",
      "Elementos no convertidos: ['one', 'seven', '3-1/2', 'not-a-number']\n"
     ]
    }
   ],
   "source": [
    "# LISTA PROPORCIONADA POR EL CLIENTE\n",
    "lst = ['1.3', 'one', '1e10', 'seven', '3-1/2', ('2', 1, 1.4, 'not-a-number'), [1, 2, '3', '3.4']]\n",
    "\n",
    "# FUNCIÓN PARA QUE CADA ELEMENTO SEA UN ELEMENTO DE LA LISTA.\n",
    "# GENERADOR QUE PRODUCE CADA ELEMENTO DE LA LISTA APLANADA.\n",
    "def aplanar(lst):\n",
    "    for item in lst:\n",
    "        if isinstance(item, (list, tuple)):\n",
    "            yield from aplanar(item)\n",
    "        else:\n",
    "            yield item\n",
    "\n",
    "# OBTENER LA LISTA APLANADA\n",
    "lista_aplanada = list(aplanar(lst))\n",
    "\n",
    "# INICIALIZAR LISTAS PARA ENTEROS Y ELEMENTOS NO CONVERTIDOS\n",
    "convertidos = []\n",
    "no_convertidos = []\n",
    "\n",
    "# ITERAR SOBRE CADA ELEMENTO DE LA LISTA APLANADA\n",
    "for item in lista_aplanada:\n",
    "    try:\n",
    "        # Convertir el elemento a float\n",
    "        numero = float(item)\n",
    "        convertidos.append(numero)  # Agregar a la lista de convertidos\n",
    "    except ValueError:\n",
    "        no_convertidos.append(item)  # Si la conversión falla, agregar a la lista de no convertidos\n",
    "\n",
    "# IMPRIMIR RESULTADOS\n",
    "print(\"Lista inicial:           \", lst)\n",
    "print(\"Lista aplanada:          \", lista_aplanada)\n",
    "print(\"Números convertidos:     \", convertidos)\n",
    "print(\"Elementos no convertidos:\", no_convertidos)\n",
    "\n"
   ]
  }
 ],
 "metadata": {
  "kernelspec": {
   "display_name": "Python 3",
   "language": "python",
   "name": "python3"
  },
  "language_info": {
   "codemirror_mode": {
    "name": "ipython",
    "version": 3
   },
   "file_extension": ".py",
   "mimetype": "text/x-python",
   "name": "python",
   "nbconvert_exporter": "python",
   "pygments_lexer": "ipython3",
   "version": "3.12.3"
  }
 },
 "nbformat": 4,
 "nbformat_minor": 2
}
